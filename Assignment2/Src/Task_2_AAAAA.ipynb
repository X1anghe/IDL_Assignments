{
 "cells": [
  {
   "cell_type": "markdown",
   "metadata": {},
   "source": [
    "### Regression"
   ]
  },
  {
   "cell_type": "code",
   "execution_count": 3,
   "metadata": {},
   "outputs": [],
   "source": [
    "import numpy as np\n",
    "from sklearn.model_selection import train_test_split\n",
    "from Regression import regression, preprocessing\n",
    "import matplotlib.pyplot as plt\n",
    "\n",
    "batch_size = 32\n",
    "epochs = 30\n",
    "lr = 0.001\n",
    "\n",
    "images_npy = '../Datasets/images.npy'\n",
    "labels_npy = '../Datasets/labels.npy'\n",
    "images = np.load(images_npy)\n",
    "labels = np.load(labels_npy)\n",
    "\n",
    "x_train, x_test, y_train, y_test = train_test_split(images, labels, train_size=0.8)\n",
    "x_train, x_test, input_shape = preprocessing(x_train, x_test)\n",
    "y_train = y_train[:, 0] + y_train[:, 1] / 60  # single output labels\n",
    "y_test = y_test[:, 0] + y_test[:, 1] / 60\n",
    "\n",
    "history, his = regression(x_train, y_train, x_test, y_test, batch_size, epochs, lr, input_shape)"
   ]
  },
  {
   "cell_type": "code",
   "execution_count": 8,
   "metadata": {},
   "outputs": [
    {
     "name": "stdout",
     "output_type": "stream",
     "text": [
      "Epoch 1/30\n",
      "450/450 [==============================] - 10s 21ms/step - loss: 25.0162 - mae: 4.4271 - val_loss: 21.7130 - val_mae: 5.6070\n",
      "Epoch 2/30\n",
      "450/450 [==============================] - 9s 20ms/step - loss: 18.1236 - mae: 3.7374 - val_loss: 18.3904 - val_mae: 4.2400\n",
      "Epoch 3/30\n",
      "450/450 [==============================] - 9s 20ms/step - loss: 13.3023 - mae: 3.3682 - val_loss: 13.3647 - val_mae: 3.7397\n",
      "Epoch 4/30\n",
      "450/450 [==============================] - 9s 20ms/step - loss: 10.8037 - mae: 3.1199 - val_loss: 11.3793 - val_mae: 3.4392\n",
      "Epoch 5/30\n",
      "450/450 [==============================] - 9s 20ms/step - loss: 9.9577 - mae: 2.9913 - val_loss: 9.2223 - val_mae: 2.9310\n",
      "Epoch 6/30\n",
      "450/450 [==============================] - 9s 20ms/step - loss: 8.7372 - mae: 2.8098 - val_loss: 9.7727 - val_mae: 2.9784\n",
      "Epoch 7/30\n",
      "450/450 [==============================] - 9s 20ms/step - loss: 8.6595 - mae: 2.8910 - val_loss: 7.8245 - val_mae: 2.4976\n",
      "Epoch 8/30\n",
      "450/450 [==============================] - 9s 20ms/step - loss: 8.1576 - mae: 2.8010 - val_loss: 7.6259 - val_mae: 2.7691\n",
      "Epoch 9/30\n",
      "450/450 [==============================] - 9s 20ms/step - loss: 7.7371 - mae: 2.9972 - val_loss: 8.0833 - val_mae: 3.1919\n",
      "Epoch 10/30\n",
      "450/450 [==============================] - 9s 20ms/step - loss: 7.6621 - mae: 3.0283 - val_loss: 11.8872 - val_mae: 3.1321\n",
      "Epoch 11/30\n",
      "450/450 [==============================] - 9s 20ms/step - loss: 7.3735 - mae: 2.8624 - val_loss: 10.4918 - val_mae: 3.4538\n",
      "Epoch 12/30\n",
      "450/450 [==============================] - 9s 20ms/step - loss: 7.2164 - mae: 2.8492 - val_loss: 11.6845 - val_mae: 3.2393\n",
      "Epoch 13/30\n",
      "450/450 [==============================] - 9s 19ms/step - loss: 6.8064 - mae: 2.7204 - val_loss: 9.8747 - val_mae: 3.2762\n",
      "Epoch 14/30\n",
      "450/450 [==============================] - 9s 20ms/step - loss: 6.6185 - mae: 2.6153 - val_loss: 6.2025 - val_mae: 2.4949\n",
      "Epoch 15/30\n",
      "450/450 [==============================] - 9s 20ms/step - loss: 6.7613 - mae: 2.6537 - val_loss: 7.1456 - val_mae: 2.4223\n",
      "Epoch 16/30\n",
      "450/450 [==============================] - 9s 20ms/step - loss: 6.9720 - mae: 2.7577 - val_loss: 7.5427 - val_mae: 2.9949\n",
      "Epoch 17/30\n",
      "450/450 [==============================] - 9s 20ms/step - loss: 6.5953 - mae: 2.7994 - val_loss: 8.7520 - val_mae: 2.7976\n",
      "Epoch 18/30\n",
      "450/450 [==============================] - 9s 19ms/step - loss: 6.9148 - mae: 2.7855 - val_loss: 7.3961 - val_mae: 2.7795\n",
      "Epoch 19/30\n",
      "450/450 [==============================] - 9s 20ms/step - loss: 6.4420 - mae: 2.4616 - val_loss: 8.4162 - val_mae: 2.5866\n",
      "Epoch 20/30\n",
      "450/450 [==============================] - 9s 20ms/step - loss: 6.2200 - mae: 2.2937 - val_loss: 6.3339 - val_mae: 2.2377\n",
      "Epoch 21/30\n",
      "450/450 [==============================] - 9s 20ms/step - loss: 6.3050 - mae: 2.2143 - val_loss: 7.4792 - val_mae: 2.4500\n",
      "Epoch 22/30\n",
      "450/450 [==============================] - 9s 20ms/step - loss: 5.9123 - mae: 2.2859 - val_loss: 6.1059 - val_mae: 2.1453\n",
      "Epoch 23/30\n",
      "450/450 [==============================] - 8s 19ms/step - loss: 5.7117 - mae: 2.3049 - val_loss: 6.3205 - val_mae: 2.5363\n",
      "Epoch 24/30\n",
      "450/450 [==============================] - 9s 20ms/step - loss: 6.3832 - mae: 2.4214 - val_loss: 8.7504 - val_mae: 2.7698\n",
      "Epoch 25/30\n",
      "450/450 [==============================] - 9s 20ms/step - loss: 6.6210 - mae: 2.3897 - val_loss: 7.3394 - val_mae: 2.7505\n",
      "Epoch 26/30\n",
      "450/450 [==============================] - 9s 20ms/step - loss: 6.4718 - mae: 2.3080 - val_loss: 6.7230 - val_mae: 2.1810\n",
      "Epoch 27/30\n",
      "450/450 [==============================] - 9s 19ms/step - loss: 6.0313 - mae: 2.1385 - val_loss: 7.4295 - val_mae: 2.3247\n",
      "Epoch 28/30\n",
      "450/450 [==============================] - 9s 20ms/step - loss: 5.9553 - mae: 2.3450 - val_loss: 6.2985 - val_mae: 2.5343\n",
      "Epoch 29/30\n",
      "450/450 [==============================] - 9s 19ms/step - loss: 6.0619 - mae: 2.3969 - val_loss: 6.1750 - val_mae: 2.7135\n",
      "Epoch 30/30\n",
      "450/450 [==============================] - 9s 19ms/step - loss: 6.1063 - mae: 2.5151 - val_loss: 6.3327 - val_mae: 2.4220\n",
      "Test loss: 6.332674503326416\n",
      "Test mse: 2.422020673751831\n"
     ]
    }
   ],
   "source": [
    "# Training plot\n",
    "train_loss = his.history['loss']\n",
    "train_mse = his.history['mae']\n",
    "val_loss = his.history['val_loss']\n",
    "val_mse = his.history['val_mae']\n",
    "epochs = range(1, len(train_loss) + 1)\n",
    "plt.plot(epochs, train_loss, 'orange', label='train_loss')\n",
    "plt.plot(epochs, train_mse, label='train_mse')\n",
    "plt.plot(epochs, val_loss, label='val_loss')\n",
    "plt.plot(epochs, val_mse, label='val_mse')\n",
    "plt.legend()\n",
    "plt.show()"
   ]
  },
  {
   "cell_type": "code",
   "execution_count": null,
   "metadata": {},
   "outputs": [],
   "source": [
    "pred = history.predict(x_test)\n",
    "print('min predict:', np.min(pred), 'max predict:', np.max(pred))\n",
    "print(\"y_predict\", '   ', 'y_test')\n",
    "for i in range(100):\n",
    "    print(pred[i], ' ', y_test[i])"
   ]
  },
  {
   "cell_type": "code",
   "execution_count": 9,
   "metadata": {},
   "outputs": [
    {
     "data": {
      "image/png": "[encoded data removed]",
      "text/plain": [
       "<Figure size 432x288 with 1 Axes>"
      ]
     },
     "metadata": {
      "needs_background": "light"
     },
     "output_type": "display_data"
    }
   ],
   "source": [
    "train_loss = his.history['loss']\n",
    "train_mse = his.history['mae']\n",
    "val_loss = his.history['val_loss']\n",
    "val_mse = his.history['val_mae']\n",
    "epochs = range(1, len(train_loss) + 1)\n",
    "plt.plot(epochs, train_loss, 'orange', label='train_loss')\n",
    "plt.plot(epochs, train_mse, label='train_mse')\n",
    "plt.plot(epochs, val_loss, label='val_loss')\n",
    "plt.plot(epochs, val_mse, label='val_mse')\n",
    "plt.legend()\n",
    "plt.show()"
   ]
  },
  {
   "cell_type": "markdown",
   "metadata": {},
   "source": [
    "### Classfication"
   ]
  },
  {
   "cell_type": "code",
   "execution_count": 6,
   "metadata": {},
   "outputs": [
    {
     "name": "stdout",
     "output_type": "stream",
     "text": [
      "Epoch 1/100\n",
      "112/113 [============================>.] - ETA: 0s - loss: 9.5689 - categorical_accuracy: 0.0455"
     ]
    }
   ],
   "source": [
    "from keras.utils.np_utils import to_categorical\n",
    "from sklearn.model_selection import train_test_split\n",
    "import numpy as np\n",
    "import matplotlib.pyplot as plt\n",
    "from Classfication import classfication, preprocessing\n",
    "\n",
    "classes_num = 12 * 2\n",
    "batch_size = 128\n",
    "epochs = 100\n",
    "lr = 0.001\n",
    "\n",
    "images_npy = '../Datasets/images.npy'\n",
    "labels_npy = '../Datasets/labels.npy'\n",
    "\n",
    "images = np.load(images_npy)\n",
    "labels = np.load(labels_npy)\n",
    "x_train, x_test, y_train, y_test = train_test_split(images, labels, train_size=0.8)\n",
    "\n",
    "x_train, x_test, input_shape = preprocessing(x_train, x_test)\n",
    "y_train = y_train[:, 0] * 2 + (y_train[:, 1] * 2 / 60).astype('int32')\n",
    "y_test = y_test[:, 0] * 2 + (y_test[:, 1] * 2 / 60).astype('int32')\n",
    "\n",
    "y_train_trans2class = to_categorical(y_train, classes_num)\n",
    "y_test_trans2class = to_categorical(y_test, classes_num)\n",
    "\n",
    "history, his = classfication(x_train, y_train_trans2class, x_test, y_test_trans2class, batch_size, epochs, lr, classes_num, input_shape)"
   ]
  },
  {
   "cell_type": "code",
   "execution_count": null,
   "metadata": {},
   "outputs": [],
   "source": [
    "acc = his.history['loss']\n",
    "loss = his.history['categorical_accuracy']\n",
    "accVal = his.history['val_loss']\n",
    "lossVal = his.history['val_categorical_accuracy']\n",
    "epochs = range(1, len(acc) + 1)\n",
    "plt.title('Accuracy and Loss')\n",
    "plt.plot(epochs, acc, 'green', label='Training acc')\n",
    "plt.plot(epochs, loss, 'blue', label='Training loss')\n",
    "plt.plot(epochs, accVal, 'orange', label='Validation acc')\n",
    "plt.plot(epochs, lossVal, 'red', label='Validation loss')\n",
    "plt.legend()\n",
    "plt.show()"
   ]
  },
  {
   "cell_type": "code",
   "execution_count": null,
   "metadata": {},
   "outputs": [],
   "source": [
    "pred = history.predict(x_test)\n",
    "print('min predict:', np.min(pred), 'max predict:', np.max(pred))\n",
    "print(\"y_predict\", '   ', 'y_test')\n",
    "for i in range(100):\n",
    "    print(pred[i], ' ', y_test[i])"
   ]
  },
  {
   "cell_type": "markdown",
   "metadata": {},
   "source": [
    "### Multi head\n"
   ]
  },
  {
   "cell_type": "code",
   "execution_count": 33,
   "metadata": {},
   "outputs": [
    {
     "name": "stdout",
     "output_type": "stream",
     "text": [
      "Epoch 1/60\n",
      " 47/113 [===========>..................] - ETA: 3s - loss: 14.5153 - hours_loss: 3.7294 - minutes_loss: 1.8947 - hours_categorical_accuracy: 0.0909 - hours_mse: 0.0885 - minutes_categorical_accuracy: 1.0000 - minutes_mse: 38.1572"
     ]
    },
    {
     "ename": "KeyboardInterrupt",
     "evalue": "",
     "output_type": "error",
     "traceback": [
      "\u001b[1;31m---------------------------------------------------------------------------\u001b[0m",
      "\u001b[1;31mKeyboardInterrupt\u001b[0m                         Traceback (most recent call last)",
      "\u001b[1;32m<ipython-input-33-65787b78bb68>\u001b[0m in \u001b[0;36m<module>\u001b[1;34m\u001b[0m\n\u001b[0;32m    113\u001b[0m \u001b[0my_test\u001b[0m \u001b[1;33m=\u001b[0m \u001b[1;33m[\u001b[0m\u001b[0my_test_hours\u001b[0m\u001b[1;33m,\u001b[0m \u001b[0my_test_mintues\u001b[0m\u001b[1;33m]\u001b[0m\u001b[1;33m\u001b[0m\u001b[1;33m\u001b[0m\u001b[0m\n\u001b[0;32m    114\u001b[0m \u001b[1;33m\u001b[0m\u001b[0m\n\u001b[1;32m--> 115\u001b[1;33m \u001b[0mhistory\u001b[0m\u001b[1;33m,\u001b[0m \u001b[0mhis\u001b[0m \u001b[1;33m=\u001b[0m \u001b[0mclassfication\u001b[0m\u001b[1;33m(\u001b[0m\u001b[0mx_train\u001b[0m\u001b[1;33m,\u001b[0m \u001b[0my_train\u001b[0m\u001b[1;33m,\u001b[0m \u001b[0mx_test\u001b[0m\u001b[1;33m,\u001b[0m \u001b[0my_test\u001b[0m\u001b[1;33m,\u001b[0m \u001b[1;36m128\u001b[0m\u001b[1;33m,\u001b[0m \u001b[1;36m60\u001b[0m\u001b[1;33m,\u001b[0m \u001b[1;36m0.001\u001b[0m\u001b[1;33m,\u001b[0m \u001b[0mclasses_num\u001b[0m\u001b[1;33m)\u001b[0m\u001b[1;33m\u001b[0m\u001b[1;33m\u001b[0m\u001b[0m\n\u001b[0m",
      "\u001b[1;32m<ipython-input-33-65787b78bb68>\u001b[0m in \u001b[0;36mclassfication\u001b[1;34m(x_train, y_train, x_test, y_test, batch_size, epochs, lr, num_classes)\u001b[0m\n\u001b[0;32m     76\u001b[0m                 metrics=['categorical_accuracy', 'mse'])\n\u001b[0;32m     77\u001b[0m \u001b[1;33m\u001b[0m\u001b[0m\n\u001b[1;32m---> 78\u001b[1;33m     his = multi_model.fit(x_train, [y_train[0], y_train[1]],\n\u001b[0m\u001b[0;32m     79\u001b[0m               \u001b[0mbatch_size\u001b[0m\u001b[1;33m=\u001b[0m\u001b[0mbatch_size\u001b[0m\u001b[1;33m,\u001b[0m\u001b[1;33m\u001b[0m\u001b[1;33m\u001b[0m\u001b[0m\n\u001b[0;32m     80\u001b[0m               \u001b[0mepochs\u001b[0m\u001b[1;33m=\u001b[0m\u001b[0mepochs\u001b[0m\u001b[1;33m,\u001b[0m\u001b[1;33m\u001b[0m\u001b[1;33m\u001b[0m\u001b[0m\n",
      "\u001b[1;32mc:\\Enviroment\\Python\\Python39\\lib\\site-packages\\keras\\utils\\traceback_utils.py\u001b[0m in \u001b[0;36merror_handler\u001b[1;34m(*args, **kwargs)\u001b[0m\n\u001b[0;32m     63\u001b[0m         \u001b[0mfiltered_tb\u001b[0m \u001b[1;33m=\u001b[0m \u001b[1;32mNone\u001b[0m\u001b[1;33m\u001b[0m\u001b[1;33m\u001b[0m\u001b[0m\n\u001b[0;32m     64\u001b[0m         \u001b[1;32mtry\u001b[0m\u001b[1;33m:\u001b[0m\u001b[1;33m\u001b[0m\u001b[1;33m\u001b[0m\u001b[0m\n\u001b[1;32m---> 65\u001b[1;33m             \u001b[1;32mreturn\u001b[0m \u001b[0mfn\u001b[0m\u001b[1;33m(\u001b[0m\u001b[1;33m*\u001b[0m\u001b[0margs\u001b[0m\u001b[1;33m,\u001b[0m \u001b[1;33m**\u001b[0m\u001b[0mkwargs\u001b[0m\u001b[1;33m)\u001b[0m\u001b[1;33m\u001b[0m\u001b[1;33m\u001b[0m\u001b[0m\n\u001b[0m\u001b[0;32m     66\u001b[0m         \u001b[1;32mexcept\u001b[0m \u001b[0mException\u001b[0m \u001b[1;32mas\u001b[0m \u001b[0me\u001b[0m\u001b[1;33m:\u001b[0m\u001b[1;33m\u001b[0m\u001b[1;33m\u001b[0m\u001b[0m\n\u001b[0;32m     67\u001b[0m             \u001b[0mfiltered_tb\u001b[0m \u001b[1;33m=\u001b[0m \u001b[0m_process_traceback_frames\u001b[0m\u001b[1;33m(\u001b[0m\u001b[0me\u001b[0m\u001b[1;33m.\u001b[0m\u001b[0m__traceback__\u001b[0m\u001b[1;33m)\u001b[0m\u001b[1;33m\u001b[0m\u001b[1;33m\u001b[0m\u001b[0m\n",
      "\u001b[1;32mc:\\Enviroment\\Python\\Python39\\lib\\site-packages\\keras\\engine\\training.py\u001b[0m in \u001b[0;36mfit\u001b[1;34m(self, x, y, batch_size, epochs, verbose, callbacks, validation_split, validation_data, shuffle, class_weight, sample_weight, initial_epoch, steps_per_epoch, validation_steps, validation_batch_size, validation_freq, max_queue_size, workers, use_multiprocessing)\u001b[0m\n\u001b[0;32m   1568\u001b[0m                             \u001b[0mlogs\u001b[0m \u001b[1;33m=\u001b[0m \u001b[0mtmp_logs\u001b[0m\u001b[1;33m\u001b[0m\u001b[1;33m\u001b[0m\u001b[0m\n\u001b[0;32m   1569\u001b[0m                             \u001b[0mend_step\u001b[0m \u001b[1;33m=\u001b[0m \u001b[0mstep\u001b[0m \u001b[1;33m+\u001b[0m \u001b[0mdata_handler\u001b[0m\u001b[1;33m.\u001b[0m\u001b[0mstep_increment\u001b[0m\u001b[1;33m\u001b[0m\u001b[1;33m\u001b[0m\u001b[0m\n\u001b[1;32m-> 1570\u001b[1;33m                             \u001b[0mcallbacks\u001b[0m\u001b[1;33m.\u001b[0m\u001b[0mon_train_batch_end\u001b[0m\u001b[1;33m(\u001b[0m\u001b[0mend_step\u001b[0m\u001b[1;33m,\u001b[0m \u001b[0mlogs\u001b[0m\u001b[1;33m)\u001b[0m\u001b[1;33m\u001b[0m\u001b[1;33m\u001b[0m\u001b[0m\n\u001b[0m\u001b[0;32m   1571\u001b[0m                             \u001b[1;32mif\u001b[0m \u001b[0mself\u001b[0m\u001b[1;33m.\u001b[0m\u001b[0mstop_training\u001b[0m\u001b[1;33m:\u001b[0m\u001b[1;33m\u001b[0m\u001b[1;33m\u001b[0m\u001b[0m\n\u001b[0;32m   1572\u001b[0m                                 \u001b[1;32mbreak\u001b[0m\u001b[1;33m\u001b[0m\u001b[1;33m\u001b[0m\u001b[0m\n",
      "\u001b[1;32mc:\\Enviroment\\Python\\Python39\\lib\\site-packages\\keras\\callbacks.py\u001b[0m in \u001b[0;36mon_train_batch_end\u001b[1;34m(self, batch, logs)\u001b[0m\n\u001b[0;32m    468\u001b[0m         \"\"\"\n\u001b[0;32m    469\u001b[0m         \u001b[1;32mif\u001b[0m \u001b[0mself\u001b[0m\u001b[1;33m.\u001b[0m\u001b[0m_should_call_train_batch_hooks\u001b[0m\u001b[1;33m:\u001b[0m\u001b[1;33m\u001b[0m\u001b[1;33m\u001b[0m\u001b[0m\n\u001b[1;32m--> 470\u001b[1;33m             \u001b[0mself\u001b[0m\u001b[1;33m.\u001b[0m\u001b[0m_call_batch_hook\u001b[0m\u001b[1;33m(\u001b[0m\u001b[0mModeKeys\u001b[0m\u001b[1;33m.\u001b[0m\u001b[0mTRAIN\u001b[0m\u001b[1;33m,\u001b[0m \u001b[1;34m\"end\"\u001b[0m\u001b[1;33m,\u001b[0m \u001b[0mbatch\u001b[0m\u001b[1;33m,\u001b[0m \u001b[0mlogs\u001b[0m\u001b[1;33m=\u001b[0m\u001b[0mlogs\u001b[0m\u001b[1;33m)\u001b[0m\u001b[1;33m\u001b[0m\u001b[1;33m\u001b[0m\u001b[0m\n\u001b[0m\u001b[0;32m    471\u001b[0m \u001b[1;33m\u001b[0m\u001b[0m\n\u001b[0;32m    472\u001b[0m     \u001b[1;32mdef\u001b[0m \u001b[0mon_test_batch_begin\u001b[0m\u001b[1;33m(\u001b[0m\u001b[0mself\u001b[0m\u001b[1;33m,\u001b[0m \u001b[0mbatch\u001b[0m\u001b[1;33m,\u001b[0m \u001b[0mlogs\u001b[0m\u001b[1;33m=\u001b[0m\u001b[1;32mNone\u001b[0m\u001b[1;33m)\u001b[0m\u001b[1;33m:\u001b[0m\u001b[1;33m\u001b[0m\u001b[1;33m\u001b[0m\u001b[0m\n",
      "\u001b[1;32mc:\\Enviroment\\Python\\Python39\\lib\\site-packages\\keras\\callbacks.py\u001b[0m in \u001b[0;36m_call_batch_hook\u001b[1;34m(self, mode, hook, batch, logs)\u001b[0m\n\u001b[0;32m    315\u001b[0m             \u001b[0mself\u001b[0m\u001b[1;33m.\u001b[0m\u001b[0m_call_batch_begin_hook\u001b[0m\u001b[1;33m(\u001b[0m\u001b[0mmode\u001b[0m\u001b[1;33m,\u001b[0m \u001b[0mbatch\u001b[0m\u001b[1;33m,\u001b[0m \u001b[0mlogs\u001b[0m\u001b[1;33m)\u001b[0m\u001b[1;33m\u001b[0m\u001b[1;33m\u001b[0m\u001b[0m\n\u001b[0;32m    316\u001b[0m         \u001b[1;32melif\u001b[0m \u001b[0mhook\u001b[0m \u001b[1;33m==\u001b[0m \u001b[1;34m\"end\"\u001b[0m\u001b[1;33m:\u001b[0m\u001b[1;33m\u001b[0m\u001b[1;33m\u001b[0m\u001b[0m\n\u001b[1;32m--> 317\u001b[1;33m             \u001b[0mself\u001b[0m\u001b[1;33m.\u001b[0m\u001b[0m_call_batch_end_hook\u001b[0m\u001b[1;33m(\u001b[0m\u001b[0mmode\u001b[0m\u001b[1;33m,\u001b[0m \u001b[0mbatch\u001b[0m\u001b[1;33m,\u001b[0m \u001b[0mlogs\u001b[0m\u001b[1;33m)\u001b[0m\u001b[1;33m\u001b[0m\u001b[1;33m\u001b[0m\u001b[0m\n\u001b[0m\u001b[0;32m    318\u001b[0m         \u001b[1;32melse\u001b[0m\u001b[1;33m:\u001b[0m\u001b[1;33m\u001b[0m\u001b[1;33m\u001b[0m\u001b[0m\n\u001b[0;32m    319\u001b[0m             raise ValueError(\n",
      "\u001b[1;32mc:\\Enviroment\\Python\\Python39\\lib\\site-packages\\keras\\callbacks.py\u001b[0m in \u001b[0;36m_call_batch_end_hook\u001b[1;34m(self, mode, batch, logs)\u001b[0m\n\u001b[0;32m    338\u001b[0m             \u001b[0mself\u001b[0m\u001b[1;33m.\u001b[0m\u001b[0m_batch_times\u001b[0m\u001b[1;33m.\u001b[0m\u001b[0mappend\u001b[0m\u001b[1;33m(\u001b[0m\u001b[0mbatch_time\u001b[0m\u001b[1;33m)\u001b[0m\u001b[1;33m\u001b[0m\u001b[1;33m\u001b[0m\u001b[0m\n\u001b[0;32m    339\u001b[0m \u001b[1;33m\u001b[0m\u001b[0m\n\u001b[1;32m--> 340\u001b[1;33m         \u001b[0mself\u001b[0m\u001b[1;33m.\u001b[0m\u001b[0m_call_batch_hook_helper\u001b[0m\u001b[1;33m(\u001b[0m\u001b[0mhook_name\u001b[0m\u001b[1;33m,\u001b[0m \u001b[0mbatch\u001b[0m\u001b[1;33m,\u001b[0m \u001b[0mlogs\u001b[0m\u001b[1;33m)\u001b[0m\u001b[1;33m\u001b[0m\u001b[1;33m\u001b[0m\u001b[0m\n\u001b[0m\u001b[0;32m    341\u001b[0m \u001b[1;33m\u001b[0m\u001b[0m\n\u001b[0;32m    342\u001b[0m         \u001b[1;32mif\u001b[0m \u001b[0mlen\u001b[0m\u001b[1;33m(\u001b[0m\u001b[0mself\u001b[0m\u001b[1;33m.\u001b[0m\u001b[0m_batch_times\u001b[0m\u001b[1;33m)\u001b[0m \u001b[1;33m>=\u001b[0m \u001b[0mself\u001b[0m\u001b[1;33m.\u001b[0m\u001b[0m_num_batches_for_timing_check\u001b[0m\u001b[1;33m:\u001b[0m\u001b[1;33m\u001b[0m\u001b[1;33m\u001b[0m\u001b[0m\n",
      "\u001b[1;32mc:\\Enviroment\\Python\\Python39\\lib\\site-packages\\keras\\callbacks.py\u001b[0m in \u001b[0;36m_call_batch_hook_helper\u001b[1;34m(self, hook_name, batch, logs)\u001b[0m\n\u001b[0;32m    386\u001b[0m         \u001b[1;32mfor\u001b[0m \u001b[0mcallback\u001b[0m \u001b[1;32min\u001b[0m \u001b[0mself\u001b[0m\u001b[1;33m.\u001b[0m\u001b[0mcallbacks\u001b[0m\u001b[1;33m:\u001b[0m\u001b[1;33m\u001b[0m\u001b[1;33m\u001b[0m\u001b[0m\n\u001b[0;32m    387\u001b[0m             \u001b[0mhook\u001b[0m \u001b[1;33m=\u001b[0m \u001b[0mgetattr\u001b[0m\u001b[1;33m(\u001b[0m\u001b[0mcallback\u001b[0m\u001b[1;33m,\u001b[0m \u001b[0mhook_name\u001b[0m\u001b[1;33m)\u001b[0m\u001b[1;33m\u001b[0m\u001b[1;33m\u001b[0m\u001b[0m\n\u001b[1;32m--> 388\u001b[1;33m             \u001b[0mhook\u001b[0m\u001b[1;33m(\u001b[0m\u001b[0mbatch\u001b[0m\u001b[1;33m,\u001b[0m \u001b[0mlogs\u001b[0m\u001b[1;33m)\u001b[0m\u001b[1;33m\u001b[0m\u001b[1;33m\u001b[0m\u001b[0m\n\u001b[0m\u001b[0;32m    389\u001b[0m \u001b[1;33m\u001b[0m\u001b[0m\n\u001b[0;32m    390\u001b[0m         \u001b[1;32mif\u001b[0m \u001b[0mself\u001b[0m\u001b[1;33m.\u001b[0m\u001b[0m_check_timing\u001b[0m\u001b[1;33m:\u001b[0m\u001b[1;33m\u001b[0m\u001b[1;33m\u001b[0m\u001b[0m\n",
      "\u001b[1;32mc:\\Enviroment\\Python\\Python39\\lib\\site-packages\\keras\\callbacks.py\u001b[0m in \u001b[0;36mon_train_batch_end\u001b[1;34m(self, batch, logs)\u001b[0m\n\u001b[0;32m   1079\u001b[0m \u001b[1;33m\u001b[0m\u001b[0m\n\u001b[0;32m   1080\u001b[0m     \u001b[1;32mdef\u001b[0m \u001b[0mon_train_batch_end\u001b[0m\u001b[1;33m(\u001b[0m\u001b[0mself\u001b[0m\u001b[1;33m,\u001b[0m \u001b[0mbatch\u001b[0m\u001b[1;33m,\u001b[0m \u001b[0mlogs\u001b[0m\u001b[1;33m=\u001b[0m\u001b[1;32mNone\u001b[0m\u001b[1;33m)\u001b[0m\u001b[1;33m:\u001b[0m\u001b[1;33m\u001b[0m\u001b[1;33m\u001b[0m\u001b[0m\n\u001b[1;32m-> 1081\u001b[1;33m         \u001b[0mself\u001b[0m\u001b[1;33m.\u001b[0m\u001b[0m_batch_update_progbar\u001b[0m\u001b[1;33m(\u001b[0m\u001b[0mbatch\u001b[0m\u001b[1;33m,\u001b[0m \u001b[0mlogs\u001b[0m\u001b[1;33m)\u001b[0m\u001b[1;33m\u001b[0m\u001b[1;33m\u001b[0m\u001b[0m\n\u001b[0m\u001b[0;32m   1082\u001b[0m \u001b[1;33m\u001b[0m\u001b[0m\n\u001b[0;32m   1083\u001b[0m     \u001b[1;32mdef\u001b[0m \u001b[0mon_test_batch_end\u001b[0m\u001b[1;33m(\u001b[0m\u001b[0mself\u001b[0m\u001b[1;33m,\u001b[0m \u001b[0mbatch\u001b[0m\u001b[1;33m,\u001b[0m \u001b[0mlogs\u001b[0m\u001b[1;33m=\u001b[0m\u001b[1;32mNone\u001b[0m\u001b[1;33m)\u001b[0m\u001b[1;33m:\u001b[0m\u001b[1;33m\u001b[0m\u001b[1;33m\u001b[0m\u001b[0m\n",
      "\u001b[1;32mc:\\Enviroment\\Python\\Python39\\lib\\site-packages\\keras\\callbacks.py\u001b[0m in \u001b[0;36m_batch_update_progbar\u001b[1;34m(self, batch, logs)\u001b[0m\n\u001b[0;32m   1155\u001b[0m         \u001b[1;32mif\u001b[0m \u001b[0mself\u001b[0m\u001b[1;33m.\u001b[0m\u001b[0mverbose\u001b[0m \u001b[1;33m==\u001b[0m \u001b[1;36m1\u001b[0m\u001b[1;33m:\u001b[0m\u001b[1;33m\u001b[0m\u001b[1;33m\u001b[0m\u001b[0m\n\u001b[0;32m   1156\u001b[0m             \u001b[1;31m# Only block async when verbose = 1.\u001b[0m\u001b[1;33m\u001b[0m\u001b[1;33m\u001b[0m\u001b[1;33m\u001b[0m\u001b[0m\n\u001b[1;32m-> 1157\u001b[1;33m             \u001b[0mlogs\u001b[0m \u001b[1;33m=\u001b[0m \u001b[0mtf_utils\u001b[0m\u001b[1;33m.\u001b[0m\u001b[0msync_to_numpy_or_python_type\u001b[0m\u001b[1;33m(\u001b[0m\u001b[0mlogs\u001b[0m\u001b[1;33m)\u001b[0m\u001b[1;33m\u001b[0m\u001b[1;33m\u001b[0m\u001b[0m\n\u001b[0m\u001b[0;32m   1158\u001b[0m             \u001b[0mself\u001b[0m\u001b[1;33m.\u001b[0m\u001b[0mprogbar\u001b[0m\u001b[1;33m.\u001b[0m\u001b[0mupdate\u001b[0m\u001b[1;33m(\u001b[0m\u001b[0mself\u001b[0m\u001b[1;33m.\u001b[0m\u001b[0mseen\u001b[0m\u001b[1;33m,\u001b[0m \u001b[0mlist\u001b[0m\u001b[1;33m(\u001b[0m\u001b[0mlogs\u001b[0m\u001b[1;33m.\u001b[0m\u001b[0mitems\u001b[0m\u001b[1;33m(\u001b[0m\u001b[1;33m)\u001b[0m\u001b[1;33m)\u001b[0m\u001b[1;33m,\u001b[0m \u001b[0mfinalize\u001b[0m\u001b[1;33m=\u001b[0m\u001b[1;32mFalse\u001b[0m\u001b[1;33m)\u001b[0m\u001b[1;33m\u001b[0m\u001b[1;33m\u001b[0m\u001b[0m\n\u001b[0;32m   1159\u001b[0m \u001b[1;33m\u001b[0m\u001b[0m\n",
      "\u001b[1;32mc:\\Enviroment\\Python\\Python39\\lib\\site-packages\\keras\\utils\\tf_utils.py\u001b[0m in \u001b[0;36msync_to_numpy_or_python_type\u001b[1;34m(tensors)\u001b[0m\n\u001b[0;32m    633\u001b[0m         \u001b[1;32mreturn\u001b[0m \u001b[0mt\u001b[0m\u001b[1;33m.\u001b[0m\u001b[0mitem\u001b[0m\u001b[1;33m(\u001b[0m\u001b[1;33m)\u001b[0m \u001b[1;32mif\u001b[0m \u001b[0mnp\u001b[0m\u001b[1;33m.\u001b[0m\u001b[0mndim\u001b[0m\u001b[1;33m(\u001b[0m\u001b[0mt\u001b[0m\u001b[1;33m)\u001b[0m \u001b[1;33m==\u001b[0m \u001b[1;36m0\u001b[0m \u001b[1;32melse\u001b[0m \u001b[0mt\u001b[0m\u001b[1;33m\u001b[0m\u001b[1;33m\u001b[0m\u001b[0m\n\u001b[0;32m    634\u001b[0m \u001b[1;33m\u001b[0m\u001b[0m\n\u001b[1;32m--> 635\u001b[1;33m     \u001b[1;32mreturn\u001b[0m \u001b[0mtf\u001b[0m\u001b[1;33m.\u001b[0m\u001b[0mnest\u001b[0m\u001b[1;33m.\u001b[0m\u001b[0mmap_structure\u001b[0m\u001b[1;33m(\u001b[0m\u001b[0m_to_single_numpy_or_python_type\u001b[0m\u001b[1;33m,\u001b[0m \u001b[0mtensors\u001b[0m\u001b[1;33m)\u001b[0m\u001b[1;33m\u001b[0m\u001b[1;33m\u001b[0m\u001b[0m\n\u001b[0m\u001b[0;32m    636\u001b[0m \u001b[1;33m\u001b[0m\u001b[0m\n\u001b[0;32m    637\u001b[0m \u001b[1;33m\u001b[0m\u001b[0m\n",
      "\u001b[1;32mc:\\Enviroment\\Python\\Python39\\lib\\site-packages\\tensorflow\\python\\util\\nest.py\u001b[0m in \u001b[0;36mmap_structure\u001b[1;34m(func, *structure, **kwargs)\u001b[0m\n\u001b[0;32m    915\u001b[0m \u001b[1;33m\u001b[0m\u001b[0m\n\u001b[0;32m    916\u001b[0m   return pack_sequence_as(\n\u001b[1;32m--> 917\u001b[1;33m       \u001b[0mstructure\u001b[0m\u001b[1;33m[\u001b[0m\u001b[1;36m0\u001b[0m\u001b[1;33m]\u001b[0m\u001b[1;33m,\u001b[0m \u001b[1;33m[\u001b[0m\u001b[0mfunc\u001b[0m\u001b[1;33m(\u001b[0m\u001b[1;33m*\u001b[0m\u001b[0mx\u001b[0m\u001b[1;33m)\u001b[0m \u001b[1;32mfor\u001b[0m \u001b[0mx\u001b[0m \u001b[1;32min\u001b[0m \u001b[0mentries\u001b[0m\u001b[1;33m]\u001b[0m\u001b[1;33m,\u001b[0m\u001b[1;33m\u001b[0m\u001b[1;33m\u001b[0m\u001b[0m\n\u001b[0m\u001b[0;32m    918\u001b[0m       expand_composites=expand_composites)\n\u001b[0;32m    919\u001b[0m \u001b[1;33m\u001b[0m\u001b[0m\n",
      "\u001b[1;32mc:\\Enviroment\\Python\\Python39\\lib\\site-packages\\tensorflow\\python\\util\\nest.py\u001b[0m in \u001b[0;36m<listcomp>\u001b[1;34m(.0)\u001b[0m\n\u001b[0;32m    915\u001b[0m \u001b[1;33m\u001b[0m\u001b[0m\n\u001b[0;32m    916\u001b[0m   return pack_sequence_as(\n\u001b[1;32m--> 917\u001b[1;33m       \u001b[0mstructure\u001b[0m\u001b[1;33m[\u001b[0m\u001b[1;36m0\u001b[0m\u001b[1;33m]\u001b[0m\u001b[1;33m,\u001b[0m \u001b[1;33m[\u001b[0m\u001b[0mfunc\u001b[0m\u001b[1;33m(\u001b[0m\u001b[1;33m*\u001b[0m\u001b[0mx\u001b[0m\u001b[1;33m)\u001b[0m \u001b[1;32mfor\u001b[0m \u001b[0mx\u001b[0m \u001b[1;32min\u001b[0m \u001b[0mentries\u001b[0m\u001b[1;33m]\u001b[0m\u001b[1;33m,\u001b[0m\u001b[1;33m\u001b[0m\u001b[1;33m\u001b[0m\u001b[0m\n\u001b[0m\u001b[0;32m    918\u001b[0m       expand_composites=expand_composites)\n\u001b[0;32m    919\u001b[0m \u001b[1;33m\u001b[0m\u001b[0m\n",
      "\u001b[1;32mc:\\Enviroment\\Python\\Python39\\lib\\site-packages\\keras\\utils\\tf_utils.py\u001b[0m in \u001b[0;36m_to_single_numpy_or_python_type\u001b[1;34m(t)\u001b[0m\n\u001b[0;32m    626\u001b[0m         \u001b[1;31m# Don't turn ragged or sparse tensors to NumPy.\u001b[0m\u001b[1;33m\u001b[0m\u001b[1;33m\u001b[0m\u001b[1;33m\u001b[0m\u001b[0m\n\u001b[0;32m    627\u001b[0m         \u001b[1;32mif\u001b[0m \u001b[0misinstance\u001b[0m\u001b[1;33m(\u001b[0m\u001b[0mt\u001b[0m\u001b[1;33m,\u001b[0m \u001b[0mtf\u001b[0m\u001b[1;33m.\u001b[0m\u001b[0mTensor\u001b[0m\u001b[1;33m)\u001b[0m\u001b[1;33m:\u001b[0m\u001b[1;33m\u001b[0m\u001b[1;33m\u001b[0m\u001b[0m\n\u001b[1;32m--> 628\u001b[1;33m             \u001b[0mt\u001b[0m \u001b[1;33m=\u001b[0m \u001b[0mt\u001b[0m\u001b[1;33m.\u001b[0m\u001b[0mnumpy\u001b[0m\u001b[1;33m(\u001b[0m\u001b[1;33m)\u001b[0m\u001b[1;33m\u001b[0m\u001b[1;33m\u001b[0m\u001b[0m\n\u001b[0m\u001b[0;32m    629\u001b[0m         \u001b[1;31m# Strings, ragged and sparse tensors don't have .item(). Return them\u001b[0m\u001b[1;33m\u001b[0m\u001b[1;33m\u001b[0m\u001b[1;33m\u001b[0m\u001b[0m\n\u001b[0;32m    630\u001b[0m         \u001b[1;31m# as-is.\u001b[0m\u001b[1;33m\u001b[0m\u001b[1;33m\u001b[0m\u001b[1;33m\u001b[0m\u001b[0m\n",
      "\u001b[1;32mc:\\Enviroment\\Python\\Python39\\lib\\site-packages\\tensorflow\\python\\framework\\ops.py\u001b[0m in \u001b[0;36mnumpy\u001b[1;34m(self)\u001b[0m\n\u001b[0;32m   1155\u001b[0m     \"\"\"\n\u001b[0;32m   1156\u001b[0m     \u001b[1;31m# TODO(slebedev): Consider avoiding a copy for non-CPU or remote tensors.\u001b[0m\u001b[1;33m\u001b[0m\u001b[1;33m\u001b[0m\u001b[1;33m\u001b[0m\u001b[0m\n\u001b[1;32m-> 1157\u001b[1;33m     \u001b[0mmaybe_arr\u001b[0m \u001b[1;33m=\u001b[0m \u001b[0mself\u001b[0m\u001b[1;33m.\u001b[0m\u001b[0m_numpy\u001b[0m\u001b[1;33m(\u001b[0m\u001b[1;33m)\u001b[0m  \u001b[1;31m# pylint: disable=protected-access\u001b[0m\u001b[1;33m\u001b[0m\u001b[1;33m\u001b[0m\u001b[0m\n\u001b[0m\u001b[0;32m   1158\u001b[0m     \u001b[1;32mreturn\u001b[0m \u001b[0mmaybe_arr\u001b[0m\u001b[1;33m.\u001b[0m\u001b[0mcopy\u001b[0m\u001b[1;33m(\u001b[0m\u001b[1;33m)\u001b[0m \u001b[1;32mif\u001b[0m \u001b[0misinstance\u001b[0m\u001b[1;33m(\u001b[0m\u001b[0mmaybe_arr\u001b[0m\u001b[1;33m,\u001b[0m \u001b[0mnp\u001b[0m\u001b[1;33m.\u001b[0m\u001b[0mndarray\u001b[0m\u001b[1;33m)\u001b[0m \u001b[1;32melse\u001b[0m \u001b[0mmaybe_arr\u001b[0m\u001b[1;33m\u001b[0m\u001b[1;33m\u001b[0m\u001b[0m\n\u001b[0;32m   1159\u001b[0m \u001b[1;33m\u001b[0m\u001b[0m\n",
      "\u001b[1;32mc:\\Enviroment\\Python\\Python39\\lib\\site-packages\\tensorflow\\python\\framework\\ops.py\u001b[0m in \u001b[0;36m_numpy\u001b[1;34m(self)\u001b[0m\n\u001b[0;32m   1121\u001b[0m   \u001b[1;32mdef\u001b[0m \u001b[0m_numpy\u001b[0m\u001b[1;33m(\u001b[0m\u001b[0mself\u001b[0m\u001b[1;33m)\u001b[0m\u001b[1;33m:\u001b[0m\u001b[1;33m\u001b[0m\u001b[1;33m\u001b[0m\u001b[0m\n\u001b[0;32m   1122\u001b[0m     \u001b[1;32mtry\u001b[0m\u001b[1;33m:\u001b[0m\u001b[1;33m\u001b[0m\u001b[1;33m\u001b[0m\u001b[0m\n\u001b[1;32m-> 1123\u001b[1;33m       \u001b[1;32mreturn\u001b[0m \u001b[0mself\u001b[0m\u001b[1;33m.\u001b[0m\u001b[0m_numpy_internal\u001b[0m\u001b[1;33m(\u001b[0m\u001b[1;33m)\u001b[0m\u001b[1;33m\u001b[0m\u001b[1;33m\u001b[0m\u001b[0m\n\u001b[0m\u001b[0;32m   1124\u001b[0m     \u001b[1;32mexcept\u001b[0m \u001b[0mcore\u001b[0m\u001b[1;33m.\u001b[0m\u001b[0m_NotOkStatusException\u001b[0m \u001b[1;32mas\u001b[0m \u001b[0me\u001b[0m\u001b[1;33m:\u001b[0m  \u001b[1;31m# pylint: disable=protected-access\u001b[0m\u001b[1;33m\u001b[0m\u001b[1;33m\u001b[0m\u001b[0m\n\u001b[0;32m   1125\u001b[0m       \u001b[1;32mraise\u001b[0m \u001b[0mcore\u001b[0m\u001b[1;33m.\u001b[0m\u001b[0m_status_to_exception\u001b[0m\u001b[1;33m(\u001b[0m\u001b[0me\u001b[0m\u001b[1;33m)\u001b[0m \u001b[1;32mfrom\u001b[0m \u001b[1;32mNone\u001b[0m  \u001b[1;31m# pylint: disable=protected-access\u001b[0m\u001b[1;33m\u001b[0m\u001b[1;33m\u001b[0m\u001b[0m\n",
      "\u001b[1;31mKeyboardInterrupt\u001b[0m: "
     ]
    }
   ],
   "source": [
    "from keras.utils.np_utils import to_categorical\n",
    "from sklearn.model_selection import train_test_split\n",
    "import numpy as np\n",
    "import matplotlib.pyplot as plt\n",
    "from MultiheadModel import multi_classfication, preprocessing\n",
    "\n",
    "batch_size = 128\n",
    "epochs = 100\n",
    "lr = 0.001\n",
    "classes_num = 12\n",
    "\n",
    "images_npy = '../Datasets/images.npy'\n",
    "labels_npy = '../Datasets/labels.npy'\n",
    "\n",
    "images = np.load(images_npy)\n",
    "labels = np.load(labels_npy)\n",
    "x_train, x_test, y_train, y_test = train_test_split(images, labels, train_size=0.8)\n",
    "x_train, x_test, input_shape = preprocessing(x_train, x_test)\n",
    "\n",
    "hours_train = y_train[:,0]\n",
    "minutes_train = y_train[:,1]\n",
    "hours_test = y_test[:,0]\n",
    "minutes_test = y_test[:,1]\n",
    "\n",
    "y_train_hours = to_categorical(hours_train, classes_num)\n",
    "y_train_mintues = minutes_train / 60\n",
    "y_test_hours = to_categorical(hours_test, classes_num)\n",
    "y_test_mintues = minutes_test / 60\n",
    "\n",
    "y_train = [y_train_hours, y_train_mintues]\n",
    "y_test = [y_test_hours, y_test_mintues]\n",
    "\n",
    "history, his = classfication(x_train, y_train, x_test, y_test, batch_size, epochs, lr, classes_num, input_shape)"
   ]
  },
  {
   "cell_type": "code",
   "execution_count": 31,
   "metadata": {},
   "outputs": [
    {
     "data": {
      "image/png": "[encoded data removed]",
      "text/plain": [
       "<Figure size 432x288 with 1 Axes>"
      ]
     },
     "metadata": {
      "needs_background": "light"
     },
     "output_type": "display_data"
    }
   ],
   "source": [
    "minutes_mse = his.history['minutes_mse']\n",
    "minutes_loss = his.history['minutes_loss']\n",
    "Vminutes_mse = his.history['val_minutes_mse']\n",
    "Vminutes_loss = his.history['val_minutes_loss']\n",
    "epochs = range(1, len(minutes_mse) + 1)\n",
    "plt.plot(epochs, minutes_mse, 'orange', label='minutes_mse')\n",
    "plt.plot(epochs, minutes_loss, label='minutes_loss')\n",
    "plt.plot(epochs, Vminutes_mse, label='val_minutes_mse')\n",
    "plt.plot(epochs, Vminutes_loss, label='val_minutes_loss')\n",
    "plt.legend()\n",
    "plt.show()"
   ]
  },
  {
   "cell_type": "code",
   "execution_count": 32,
   "metadata": {},
   "outputs": [
    {
     "data": {
      "image/png": "[encoded data removed]",
      "text/plain": [
       "<Figure size 432x288 with 1 Axes>"
      ]
     },
     "metadata": {
      "needs_background": "light"
     },
     "output_type": "display_data"
    }
   ],
   "source": [
    "hours_acc = his.history['hours_categorical_accuracy']\n",
    "hours_loss = his.history['hours_loss']\n",
    "\n",
    "Vhours_acc = his.history['val_hours_categorical_accuracy']\n",
    "Vhours_loss = his.history['val_hours_loss']\n",
    "\n",
    "epochs = range(1, len(hours_acc) + 1)\n",
    "plt.title('Accuracy and Loss')\n",
    "plt.plot(epochs, hours_acc, 'green', label='hours_categorical_accuracy')\n",
    "plt.plot(epochs, hours_loss, 'blue', label='hours_loss')\n",
    "\n",
    "plt.plot(epochs, Vhours_acc, label='val_hours_categorical_accuracy')\n",
    "plt.plot(epochs, Vhours_loss, label='val_hours_loss')\n",
    "\n",
    "plt.legend()\n",
    "plt.show()"
   ]
  },
  {
   "cell_type": "code",
   "execution_count": null,
   "metadata": {},
   "outputs": [],
   "source": [
    "pred = history.predict(x_test)\n",
    "print('min predict:', np.min(pred), 'max predict:', np.max(pred))\n",
    "print(\"y_predict\", '   ', 'y_test')\n",
    "for i in range(100):\n",
    "    print(pred[i], ' ', y_test[i])"
   ]
  },
  {
   "cell_type": "markdown",
   "metadata": {},
   "source": [
    "### Label trans regression"
   ]
  },
  {
   "cell_type": "code",
   "execution_count": 43,
   "metadata": {},
   "outputs": [
    {
     "name": "stdout",
     "output_type": "stream",
     "text": [
      "Epoch 1/30\n",
      "113/113 [==============================] - 8s 63ms/step - loss: 31.3398 - mse: 10.8145 - accuracy: 0.2483 - val_loss: 23.7560 - val_mse: 0.7043 - val_accuracy: 0.2403\n",
      "Epoch 2/30\n",
      "113/113 [==============================] - 7s 60ms/step - loss: 18.5809 - mse: 0.7376 - accuracy: 0.3007 - val_loss: 20.3248 - val_mse: 0.8136 - val_accuracy: 0.2417\n",
      "Epoch 3/30\n",
      "113/113 [==============================] - 6s 57ms/step - loss: 15.4725 - mse: 0.6088 - accuracy: 0.3440 - val_loss: 18.2405 - val_mse: 0.6406 - val_accuracy: 0.2403\n",
      "Epoch 4/30\n",
      "113/113 [==============================] - 6s 54ms/step - loss: 13.4284 - mse: 0.4949 - accuracy: 0.3900 - val_loss: 16.1093 - val_mse: 0.5687 - val_accuracy: 0.3067\n",
      "Epoch 5/30\n",
      "113/113 [==============================] - 6s 54ms/step - loss: 11.6716 - mse: 0.4179 - accuracy: 0.4401 - val_loss: 14.6664 - val_mse: 0.4919 - val_accuracy: 0.3294\n",
      "Epoch 6/30\n",
      "113/113 [==============================] - 7s 58ms/step - loss: 10.5484 - mse: 0.3929 - accuracy: 0.4651 - val_loss: 12.9459 - val_mse: 0.4754 - val_accuracy: 0.3228\n",
      "Epoch 7/30\n",
      "113/113 [==============================] - 6s 58ms/step - loss: 9.4801 - mse: 0.3677 - accuracy: 0.4815 - val_loss: 10.8726 - val_mse: 0.3949 - val_accuracy: 0.4503\n",
      "Epoch 8/30\n",
      "113/113 [==============================] - 6s 56ms/step - loss: 8.9917 - mse: 0.3601 - accuracy: 0.4959 - val_loss: 9.9342 - val_mse: 0.3743 - val_accuracy: 0.4714\n",
      "Epoch 9/30\n",
      "113/113 [==============================] - 7s 60ms/step - loss: 8.2433 - mse: 0.3319 - accuracy: 0.5168 - val_loss: 9.8957 - val_mse: 0.3590 - val_accuracy: 0.4883\n",
      "Epoch 10/30\n",
      "113/113 [==============================] - 7s 64ms/step - loss: 7.8430 - mse: 0.3185 - accuracy: 0.5187 - val_loss: 9.6287 - val_mse: 0.3411 - val_accuracy: 0.5106\n",
      "Epoch 11/30\n",
      "113/113 [==============================] - 7s 65ms/step - loss: 7.3472 - mse: 0.3040 - accuracy: 0.5280 - val_loss: 8.2280 - val_mse: 0.3293 - val_accuracy: 0.5297\n",
      "Epoch 12/30\n",
      "113/113 [==============================] - 7s 66ms/step - loss: 6.8616 - mse: 0.2983 - accuracy: 0.5317 - val_loss: 7.7906 - val_mse: 0.3126 - val_accuracy: 0.5197\n",
      "Epoch 13/30\n",
      "113/113 [==============================] - 7s 66ms/step - loss: 6.5440 - mse: 0.2927 - accuracy: 0.5333 - val_loss: 6.8762 - val_mse: 0.2933 - val_accuracy: 0.5456\n",
      "Epoch 14/30\n",
      "113/113 [==============================] - 7s 65ms/step - loss: 6.5698 - mse: 0.2938 - accuracy: 0.5336 - val_loss: 8.0701 - val_mse: 0.3167 - val_accuracy: 0.5247\n",
      "Epoch 15/30\n",
      "113/113 [==============================] - 7s 60ms/step - loss: 5.8691 - mse: 0.2831 - accuracy: 0.5447 - val_loss: 7.2756 - val_mse: 0.3000 - val_accuracy: 0.5225\n",
      "Epoch 16/30\n",
      "113/113 [==============================] - 7s 65ms/step - loss: 5.6062 - mse: 0.2812 - accuracy: 0.5419 - val_loss: 7.3794 - val_mse: 0.3064 - val_accuracy: 0.5372\n",
      "Epoch 17/30\n",
      "113/113 [==============================] - 7s 62ms/step - loss: 5.3675 - mse: 0.2783 - accuracy: 0.5480 - val_loss: 6.7005 - val_mse: 0.2960 - val_accuracy: 0.5289\n",
      "Epoch 18/30\n",
      "113/113 [==============================] - 7s 63ms/step - loss: 5.3292 - mse: 0.2773 - accuracy: 0.5458 - val_loss: 5.9028 - val_mse: 0.2812 - val_accuracy: 0.5400\n",
      "Epoch 19/30\n",
      "113/113 [==============================] - 7s 63ms/step - loss: 5.2762 - mse: 0.2761 - accuracy: 0.5478 - val_loss: 6.9702 - val_mse: 0.2975 - val_accuracy: 0.5303\n",
      "Epoch 20/30\n",
      "113/113 [==============================] - 7s 65ms/step - loss: 5.0705 - mse: 0.2746 - accuracy: 0.5503 - val_loss: 5.7861 - val_mse: 0.2843 - val_accuracy: 0.5644\n",
      "Epoch 21/30\n",
      "113/113 [==============================] - 7s 58ms/step - loss: 4.7888 - mse: 0.2714 - accuracy: 0.5481 - val_loss: 6.9120 - val_mse: 0.3035 - val_accuracy: 0.5364\n",
      "Epoch 22/30\n",
      "113/113 [==============================] - 7s 58ms/step - loss: 4.6938 - mse: 0.2717 - accuracy: 0.5499 - val_loss: 5.4933 - val_mse: 0.2796 - val_accuracy: 0.5464\n",
      "Epoch 23/30\n",
      "113/113 [==============================] - 6s 56ms/step - loss: 4.5806 - mse: 0.2704 - accuracy: 0.5531 - val_loss: 6.6277 - val_mse: 0.2979 - val_accuracy: 0.5422\n",
      "Epoch 24/30\n",
      "113/113 [==============================] - 7s 61ms/step - loss: 4.3928 - mse: 0.2686 - accuracy: 0.5507 - val_loss: 6.6385 - val_mse: 0.2989 - val_accuracy: 0.5331\n",
      "Epoch 25/30\n",
      "113/113 [==============================] - 7s 60ms/step - loss: 4.3552 - mse: 0.2694 - accuracy: 0.5552 - val_loss: 4.9474 - val_mse: 0.2737 - val_accuracy: 0.5600\n",
      "Epoch 26/30\n",
      "113/113 [==============================] - 6s 56ms/step - loss: 4.1222 - mse: 0.2672 - accuracy: 0.5531 - val_loss: 5.4645 - val_mse: 0.2879 - val_accuracy: 0.5725\n",
      "Epoch 27/30\n",
      "113/113 [==============================] - 7s 61ms/step - loss: 3.9970 - mse: 0.2677 - accuracy: 0.5524 - val_loss: 5.2887 - val_mse: 0.2795 - val_accuracy: 0.5675\n",
      "Epoch 28/30\n",
      "113/113 [==============================] - 7s 65ms/step - loss: 3.8644 - mse: 0.2658 - accuracy: 0.5543 - val_loss: 5.1584 - val_mse: 0.2812 - val_accuracy: 0.5633\n",
      "Epoch 29/30\n",
      "113/113 [==============================] - 7s 65ms/step - loss: 3.8144 - mse: 0.2662 - accuracy: 0.5569 - val_loss: 3.9329 - val_mse: 0.2643 - val_accuracy: 0.5583\n",
      "Epoch 30/30\n",
      "113/113 [==============================] - 7s 58ms/step - loss: 3.8911 - mse: 0.2653 - accuracy: 0.5539 - val_loss: 4.2142 - val_mse: 0.2680 - val_accuracy: 0.5508\n",
      "Test loss: 2.8775360584259033\n",
      "Test mse: 0.2679918706417084\n"
     ]
    }
   ],
   "source": [
    "from keras.utils.np_utils import to_categorical\n",
    "from sklearn.model_selection import train_test_split\n",
    "import numpy as np\n",
    "import matplotlib.pyplot as plt\n",
    "from LabelTrans_Regression import label_trans_regression, preprocessing, label_transform\n",
    "\n",
    "batch_size = 128\n",
    "epochs = 100\n",
    "lr = 0.001\n",
    "\n",
    "images_npy = '../Datasets/images.npy'\n",
    "labels_npy = '../Datasets/labels.npy'\n",
    "\n",
    "images = np.load(images_npy)\n",
    "labels = np.load(labels_npy)\n",
    "\n",
    "labels_trans = label_transform(labels)\n",
    "\n",
    "x_train, x_test, y_train, y_test = train_test_split(images, labels_trans, train_size=0.8)\n",
    "\n",
    "x_train, x_test, input_shape = preprocessing(x_train, x_test)\n",
    "\n",
    "history, his = label_trans_regression(x_train, y_train, x_test, y_test, batch_size, epochs, input_shape)"
   ]
  },
  {
   "cell_type": "code",
   "execution_count": null,
   "metadata": {},
   "outputs": [],
   "source": [
    "train_loss = his.history['loss']\n",
    "train_mse = his.history['mse']\n",
    "val_loss = his.history['val_loss']\n",
    "val_mse = his.history['val_mse']\n",
    "epochs = range(1, len(train_loss) + 1)\n",
    "plt.plot(epochs, train_loss, 'orange', label='train_loss')\n",
    "plt.plot(epochs, train_mse, label='train_mse')\n",
    "plt.plot(epochs, val_loss, label='val_loss')\n",
    "plt.plot(epochs, val_mse, label='val_mse')\n",
    "plt.legend()\n",
    "plt.show()"
   ]
  },
  {
   "cell_type": "markdown",
   "metadata": {},
   "source": [
    "### re-Label trans"
   ]
  },
  {
   "cell_type": "code",
   "execution_count": 44,
   "metadata": {},
   "outputs": [],
   "source": [
    "def label_transform_map(h_list, m_list):\n",
    "    hours_array = np.zeros(shape=(len(h_list), 2))\n",
    "    minutes_array = np.zeros(shape=(len(m_list), 2))\n",
    "    for i in range(len(h_list)):\n",
    "        hour = h_list[i]\n",
    "        hours_array[i] = (np.sin(hour*(1/6)*np.pi),np.cos(hour*(1/6)*np.pi))\n",
    "\n",
    "    for i in range(len(m_list)):\n",
    "        minute = m_list[i]\n",
    "        minutes_array[i] = (np.sin(minute * (1/3) * np.pi), np.cos(minute * (1/3)*np.pi))\n",
    "\n",
    "    return hours_array, minutes_array"
   ]
  },
  {
   "cell_type": "code",
   "execution_count": 107,
   "metadata": {},
   "outputs": [],
   "source": [
    "def distance(v1, v2):   \n",
    "    dis_array = np.zeros(shape=(len(v2)))\n",
    "    for i in range(len(v2)):\n",
    "        dis_array[i] = float(np.sqrt(sum((v1 - v2[i])**2)))\n",
    "    return dis_array"
   ]
  },
  {
   "cell_type": "code",
   "execution_count": 108,
   "metadata": {},
   "outputs": [],
   "source": [
    "hours_list = np.arange(0, 12).astype('float32')\n",
    "minutes_list = np.arange(0, 60).astype('float32')\n",
    "\n",
    "h_map, m_map = label_transform_map(hours_list, minutes_list)"
   ]
  },
  {
   "cell_type": "code",
   "execution_count": 123,
   "metadata": {},
   "outputs": [
    {
     "name": "stdout",
     "output_type": "stream",
     "text": [
      "113/113 [==============================] - 1s 7ms/step\n"
     ]
    }
   ],
   "source": [
    "pred = history.predict(x_test)\n",
    "hours = pred[:, 0:2]\n",
    "minutes = pred[:, 2:]\n",
    "\n",
    "def real_clock(hours, minutes):\n",
    "    length = len(hours)\n",
    "    result_list = np.zeros(shape=(length, 2))\n",
    "    for i in range(length):\n",
    "        hours_dis = distance(hours[i], h_map)\n",
    "        minutes_dis = distance(minutes[i], m_map)\n",
    "\n",
    "        h_min = np.argsort(hours_dis)[0:2]\n",
    "        m_min = np.argsort(minutes_dis)[0]\n",
    "        if (h_min[0] != 0) | (h_min[1] != 11):\n",
    "            result_list[i] = (h_min[0], m_min)\n",
    "        else:\n",
    "            result_list[i] = (h_min[1], m_min)\n",
    "    return result_list"
   ]
  },
  {
   "cell_type": "code",
   "execution_count": 128,
   "metadata": {},
   "outputs": [],
   "source": [
    "result_list = real_clock(hours, minutes)\n",
    "true_result = real_clock(y_test[:, 0:2], y_test[:, 2:])"
   ]
  },
  {
   "cell_type": "code",
   "execution_count": 129,
   "metadata": {},
   "outputs": [
    {
     "name": "stdout",
     "output_type": "stream",
     "text": [
      "[7. 0.]   [ 8. 35.]\n",
      "[11.  0.]   [11. 39.]\n",
      "[ 8. 15.]   [ 8. 18.]\n",
      "[ 2. 33.]   [ 2. 38.]\n",
      "[ 4. 25.]   [ 4. 10.]\n",
      "[ 7. 29.]   [ 7. 46.]\n",
      "[ 6. 25.]   [6. 4.]\n",
      "[10. 28.]   [10. 13.]\n",
      "[2. 0.]   [2. 3.]\n",
      "[4. 0.]   [ 4. 47.]\n",
      "[ 6. 36.]   [ 5. 13.]\n",
      "[ 2. 47.]   [2. 3.]\n",
      "[11. 43.]   [11.  8.]\n",
      "[ 1. 25.]   [1. 7.]\n",
      "[ 3. 25.]   [ 2. 29.]\n",
      "[10. 25.]   [10. 54.]\n",
      "[2. 0.]   [ 3. 20.]\n",
      "[7. 1.]   [ 7. 24.]\n",
      "[ 1. 29.]   [ 1. 17.]\n",
      "[5. 0.]   [5. 4.]\n"
     ]
    }
   ],
   "source": [
    "for i in range(20):\n",
    "    print(result_list[i], ' ', true_result[i])\n"
   ]
  },
  {
   "cell_type": "code",
   "execution_count": 18,
   "metadata": {},
   "outputs": [
    {
     "name": "stdout",
     "output_type": "stream",
     "text": [
      "[ 42.235897 -42.425423  14.615626  15.788486]   [-9.65925826e+01 -2.58819045e+01 -1.22464680e-13  1.00000000e+02]\n",
      "[ 15.461312   79.89877    -1.8230126 -11.053999 ]   [-86.16291604  50.7538363   86.60254038  50.        ]\n",
      "[-22.207714  -74.30162   -20.334606    1.6888306]   [ 2.84015345e+01 -9.58819735e+01  1.10218212e-13 -1.00000000e+02]\n",
      "[-69.33693   -33.53046     1.3371542   8.051591 ]   [-71.32504492  70.09092643 -86.60254038  50.        ]\n",
      "[-64.98792    -3.462985   -0.1602903   3.7245915]   [ -8.71557427  99.61946981  86.60254038 -50.        ]\n",
      "[-71.75081   38.01566   13.081477   2.821882]   [-88.29475929 -46.94715628 -86.60254038 -50.        ]\n",
      "[88.13718  11.378106 20.30787   8.928518]   [ 75.47095802  65.6059029   86.60254038 -50.        ]\n",
      "[64.513336 68.91401  19.695581 -1.656945]   [ 99.98476952  -1.74524064  86.60254038 -50.        ]\n",
      "[ -0.77232313 -91.949356    -6.6257877  -12.351148  ]   [ 17.36481777 -98.4807753  -86.60254038 -50.        ]\n",
      "[-11.81437   -66.79825     1.9492819  -6.906287 ]   [ 98.90158634 -14.78094111 -86.60254038  50.        ]\n",
      "[  7.1425476  23.533197    1.0529115 -12.42093  ]   [ 88.70108332  46.17486132 -86.60254038  50.        ]\n",
      "[ 67.676186  -22.339005    0.5783871   4.8699007]   [ 5.23359562e+00  9.98629535e+01 -2.44929360e-14  1.00000000e+02]\n",
      "[76.47556   31.794226  20.41126    3.0996249]   [ 59.48227868 -80.38568606 -86.60254038  50.        ]\n",
      "[60.92422   68.40913    1.8956735  2.7314947]   [-60.18150232  79.863551   -86.60254038 -50.        ]\n",
      "[-49.220352    73.55465      7.2337284   -0.90896636]   [ 1.30526192e+01 -9.91444861e+01  5.38968388e-13 -1.00000000e+02]\n",
      "[-8.9612923e+01  1.0409042e+01 -2.4529383e+00  7.2710216e-02]   [ 7.60405966e+01 -6.49448048e+01  8.57252759e-14 -1.00000000e+02]\n",
      "[-67.53656    -4.2501955   9.642418   10.364814 ]   [-6.69130606e+01 -7.43144825e+01 -9.79717439e-14  1.00000000e+02]\n",
      "[-40.73205   61.87043   16.747673   9.459667]   [-88.29475929 -46.94715628 -86.60254038 -50.        ]\n",
      "[-68.780815    4.292545  -36.75658   -12.9759445]   [-68.19983601 -73.13537016  86.60254038 -50.        ]\n",
      "[-12.202927  -77.34257    14.855226    2.6882396]   [-92.71838546 -37.46065934 -86.60254038 -50.        ]\n",
      "[-10.700275    77.206955     4.5466795   -0.18707067]   [-92.71838546  37.46065934  86.60254038 -50.        ]\n",
      "[69.7387    32.648273  -1.5136049  1.1976421]   [-31.73046564 -94.83236552  86.60254038  50.        ]\n",
      "[ 33.801434  -70.3399     10.896094    2.3184419]   [36.65012267 93.0417568  86.60254038 50.        ]\n",
      "[  6.2792993 -73.553474  -16.877214    0.4916951]   [ 97.43700648 -22.49510543  86.60254038 -50.        ]\n",
      "[12.316249  78.48035   -7.0083184  9.3056965]   [ 61.56614753  78.80107536 -86.60254038 -50.        ]\n",
      "[33.033035   9.43211   -1.7140672 -1.2837186]   [ 97.62960071  21.64396139 -86.60254038  50.        ]\n",
      "[71.727165  19.856512  15.914555   2.1701381]   [ 99.25461516  12.18693434 -86.60254038 -50.        ]\n",
      "[-35.600582  73.58534   16.202118  -8.55674 ]   [ 60.18150232  79.863551    86.60254038 -50.        ]\n",
      "[  7.91739   -66.957466   37.6025      4.4160633]   [-90.6307787  -42.26182617 -86.60254038 -50.        ]\n",
      "[70.10125    4.2046337  6.61778   -6.6704826]   [-94.83236552 -31.73046564 -86.60254038  50.        ]\n",
      "[-60.597157   7.602021 -26.378601 -11.91598 ]   [-39.87490689  91.70600744  86.60254038  50.        ]\n",
      "[-74.52944  -14.701228   9.109338  16.148882]   [ 88.70108332 -46.17486132  86.60254038  50.        ]\n",
      "[-41.2383   -49.055676  14.487762  10.34482 ]   [-50.          86.60254038   0.         100.        ]\n",
      "[-63.80092    27.219006   -2.5956795  -3.073515 ]   [-80.38568606 -59.48227868 -86.60254038  50.        ]\n",
      "[-14.150812  90.70265    4.062237  -3.470944]   [16.50476059 98.62856015 86.60254038 50.        ]\n",
      "[27.602133 75.94745  13.975467 22.698198]   [ 7.07106781e+01  7.07106781e+01 -1.22464680e-13  1.00000000e+02]\n",
      "[ 35.23415  -56.386654  15.491815  16.245823]   [-9.94521895e+01  1.04528463e+01 -4.89858720e-14  1.00000000e+02]\n",
      "[-83.725586 -39.091923  -2.064775  -8.112719]   [-9.02585284e+01  4.30511097e+01 -1.47081412e-13 -1.00000000e+02]\n",
      "[-45.644035  -77.09222    -2.6794717  -7.291819 ]   [ 97.62960071  21.64396139 -86.60254038  50.        ]\n",
      "[ 26.121292 -12.407485   5.619301  -2.419889]   [-9.58457525 99.53961984 86.60254038 50.        ]\n",
      "[  2.1488767 -84.754684    6.70795     5.720405 ]   [-13.9173101  -99.02680687 -86.60254038 -50.        ]\n",
      "[ 63.949     -27.721457   -2.3454711  -7.121046 ]   [-7.84590957e+00 -9.96917334e+01  3.67394040e-14 -1.00000000e+02]\n",
      "[ 57.15561   -54.323162   -2.9271886   3.3842273]   [-37.46065934 -92.71838546  86.60254038 -50.        ]\n",
      "[ 59.302757  -56.29122    -2.3991272  -1.0627613]   [-5.87785252e+01  8.09016994e+01 -1.95943488e-13  1.00000000e+02]\n",
      "[ 56.197716   -43.648663    -0.14479607  -3.1862392 ]   [ 7.84590957e+00 -9.96917334e+01 -1.47081412e-13 -1.00000000e+02]\n",
      "[-2.2369761 64.75303    6.8862514  6.9654984]   [ 97.43700648  22.49510543 -86.60254038 -50.        ]\n",
      "[ 39.41203  -61.1445    -1.610677   8.242683]   [-37.46065934 -92.71838546  86.60254038 -50.        ]\n",
      "[39.6448    50.754047  -8.736496  -6.0864525]   [-98.90158634 -14.78094111  86.60254038  50.        ]\n",
      "[-63.387238  59.191387  -9.525661   8.616321]   [-50.7538363  -86.16291604  86.60254038  50.        ]\n",
      "[-72.84428    -9.848049   -6.956409    2.0477996]   [ 9.96917334e+01 -7.84590957e+00  3.67394040e-14 -1.00000000e+02]\n",
      "[-28.563932   73.64778    13.425429    4.2640967]   [-79.863551    60.18150232  86.60254038 -50.        ]\n",
      "[-60.02277  -40.285267  15.816601   8.405135]   [ 9.87688341e+01  1.56434465e+01 -1.71450552e-13  1.00000000e+02]\n",
      "[36.503407 76.88548  -6.900303 -5.493708]   [21.64396139 97.62960071 86.60254038 50.        ]\n",
      "[ 32.593094 -83.918274  21.08304   10.649703]   [ 8.52640164e+01 -5.22498565e+01  1.22464680e-14 -1.00000000e+02]\n",
      "[-32.612316  -74.26561     4.873963   -3.3054128]   [-44.61978131 -89.49343616 -86.60254038  50.        ]\n",
      "[ 1.2062054 55.16506   -5.9063478  7.460217 ]   [ 98.16271834 -19.08089954 -86.60254038 -50.        ]\n",
      "[-74.60503   31.746838  10.163982   7.517783]   [-87.46197071  48.48096202 -86.60254038 -50.        ]\n",
      "[ 27.288696  -75.72136     6.9061356  -9.812983 ]   [  3.48994967 -99.9390827   86.60254038 -50.        ]\n",
      "[-46.4494   -55.068962   9.418009  13.123046]   [-81.41155184  58.07029557 -86.60254038  50.        ]\n",
      "[ 31.515404 -69.22981   10.590903  -4.741177]   [ 30.07057995 -95.37169507  86.60254038  50.        ]\n",
      "[-53.971886   -0.9195475 -19.884829   -6.252976 ]   [ 61.56614753  78.80107536 -86.60254038 -50.        ]\n",
      "[  6.395123  -65.64482    -1.8030391   1.7030165]   [ 7.07106781e+01 -7.07106781e+01 -1.22464680e-13  1.00000000e+02]\n",
      "[ 20.602451  -81.10807    11.552544   -1.5968606]   [ -6.10485395  99.81347984 -86.60254038  50.        ]\n",
      "[-40.190784   74.18636    -6.611447   -5.3738074]   [ 99.75640503  -6.97564737  86.60254038 -50.        ]\n",
      "[-65.638336   46.35594    15.30567     3.1494544]   [ 66.26200482  74.89557208 -86.60254038  50.        ]\n",
      "[ -5.7276626  -64.84328      0.73007494  18.99424   ]   [-42.26182617 -90.6307787   86.60254038 -50.        ]\n",
      "[65.88071   27.807512  -2.2783206 11.129255 ]   [ 4.06736643e+01 -9.13545458e+01 -4.89858720e-14  1.00000000e+02]\n",
      "[ 5.383561  73.39819    9.470685   2.5674984]   [ 9.58819735e+01  2.84015345e+01  1.10218212e-13 -1.00000000e+02]\n",
      "[-24.479652  -66.419174   -6.2763853 -17.554369 ]   [-8.38670568e+01  5.44639035e+01 -2.44929360e-14  1.00000000e+02]\n",
      "[ 12.833725   -63.94292      0.28097183  -8.0872555 ]   [-3.33806859e+01  9.42641491e+01  8.57252759e-14 -1.00000000e+02]\n",
      "[-83.472374   -1.869419    6.998308   -0.6690517]   [-94.83236552 -31.73046564 -86.60254038  50.        ]\n",
      "[-15.801491 -77.012085  16.97405  -11.078329]   [-6.69130606e+01 -7.43144825e+01 -9.79717439e-14  1.00000000e+02]\n",
      "[32.187347 66.44774  26.29512  29.559416]   [-80.38568606 -59.48227868 -86.60254038  50.        ]\n",
      "[  3.6673646 -68.80479    -1.5030906   1.3279006]   [ 98.4807753   17.36481777 -86.60254038 -50.        ]\n",
      "[ 47.857365 -64.41054   18.947334   9.772481]   [-91.70600744  39.87490689 -86.60254038  50.        ]\n",
      "[65.95171  10.099869  1.482202  4.844491]   [-8.38670568e+01 -5.44639035e+01 -2.20436424e-13  1.00000000e+02]\n",
      "[ 72.816956 -15.455881  -9.767203   5.229973]   [ 2.58819045e+01 -9.65925826e+01 -1.22464680e-13  1.00000000e+02]\n",
      "[-48.61814    27.72822     8.229036   -3.2209053]   [ 6.10485395 99.81347984 86.60254038 50.        ]\n",
      "[ 1.9699614  75.62376     3.440304    0.08542389]   [-6.49448048e+01 -7.60405966e+01  8.57252759e-14 -1.00000000e+02]\n",
      "[ 80.96184   -28.841272  -29.285568    3.8735316]   [ -8.71557427 -99.61946981 -86.60254038 -50.        ]\n",
      "[-24.733604  83.39003   10.857616   9.904938]   [-39.87490689  91.70600744  86.60254038  50.        ]\n",
      "[33.16527   74.97131   -6.6024823 -1.2025251]   [-93.0417568   36.65012267  86.60254038  50.        ]\n",
      "[-50.043987  -76.530525    1.8099084   9.277682 ]   [84.33914458 53.72996083 86.60254038 50.        ]\n",
      "[-78.40868    54.449593  -16.34137    -0.8120209]   [-99.02680687  13.9173101  -86.60254038 -50.        ]\n",
      "[ -7.6231027 -91.82994     4.8201904   3.6972806]   [-24.19218956  97.02957263  86.60254038 -50.        ]\n",
      "[66.43245    60.814156   14.696248   -0.80601126]   [-98.4807753   17.36481777  86.60254038 -50.        ]\n",
      "[-59.84548  -45.269028  14.498528  13.774507]   [-86.60254038  50.           0.         100.        ]\n",
      "[32.15712   77.46727    6.4373507  1.7776356]   [-9.51056516e+01  3.09016994e+01 -1.46957616e-13  1.00000000e+02]\n",
      "[33.76083   71.61289   -9.417992  -4.6067314]   [-99.9390827    3.48994967 -86.60254038 -50.        ]\n",
      "[ 47.839676   41.0439    -17.869577   -3.2227292]   [ 64.27876097 -76.60444431 -86.60254038 -50.        ]\n",
      "[ 42.584427 -59.89225    9.69872   12.259846]   [-2.07911691e+01  9.78147601e+01 -1.46957616e-13  1.00000000e+02]\n",
      "[-70.30785   -22.623518   16.657682    4.0175014]   [-85.71673007 -51.50380749 -86.60254038 -50.        ]\n",
      "[54.535316  80.768974   6.7953663 -4.3992534]   [63.60782203 77.16245834 86.60254038 50.        ]\n",
      "[-39.156654   71.66414     7.409175    3.7185655]   [ 9.23879533e+01  3.82683432e+01  6.12323400e-14 -1.00000000e+02]\n",
      "[-93.937256     0.12300925 -10.426478    15.111862  ]   [ 5.87785252e+01 -8.09016994e+01 -1.95943488e-13  1.00000000e+02]\n",
      "[ 30.0423    -75.247055    3.02784     3.4036875]   [ 66.26200482 -74.89557208  86.60254038  50.        ]\n",
      "[-59.241783  -21.498596   -1.8129394   6.8567915]   [ 73.13537016  68.19983601 -86.60254038 -50.        ]\n",
      "[ 15.788887 -68.97327   12.125052 -11.940246]   [-9.02585284e+01 -4.30511097e+01  3.67394040e-14 -1.00000000e+02]\n",
      "[-65.37044  -38.542023 -11.132394   8.341805]   [ 93.96926208 -34.20201433 -86.60254038 -50.        ]\n",
      "[51.54474   48.33748   -5.6024     1.6240194]   [ 55.91929035  82.90375726  86.60254038 -50.        ]\n"
     ]
    }
   ],
   "source": [
    "for i in range(100):\n",
    "    print(pred[i]*100, ' ', y_test[i]*100)"
   ]
  },
  {
   "cell_type": "markdown",
   "metadata": {},
   "source": [
    "---"
   ]
  },
  {
   "cell_type": "markdown",
   "metadata": {},
   "source": [
    "classfication backpack\n"
   ]
  },
  {
   "cell_type": "code",
   "execution_count": null,
   "metadata": {},
   "outputs": [],
   "source": [
    "# from keras.utils.np_utils import to_categorical\n",
    "# from keras.models import Model, Sequential\n",
    "# from keras.layers import Dense, Dropout, Flatten, Conv2D, MaxPooling2D, Input, BatchNormalization\n",
    "# from keras import backend\n",
    "# from sklearn.model_selection import train_test_split\n",
    "# import numpy as np\n",
    "\n",
    "\n",
    "# def preprocessing(train_data, test_data):\n",
    "#     img_rows, img_cols = train_data.shape[1], train_data.shape[2]\n",
    "#     if backend.image_data_format() == 'channels_first':\n",
    "#         train_data = train_data.reshape(train_data.shape[0], 1, img_rows, img_cols)\n",
    "#         test_data = test_data.reshape(test_data.shape[0], 1, img_rows, img_cols)\n",
    "#         input_shape = (1, img_rows, img_cols)\n",
    "#     else:\n",
    "#         train_data = train_data.reshape(train_data.shape[0], img_rows, img_cols, 1)\n",
    "#         test_data = test_data.reshape(test_data.shape[0], img_rows, img_cols, 1)\n",
    "#         input_shape = (img_rows, img_cols, 1)  \n",
    "\n",
    "#     train_data = train_data.astype('float32')\n",
    "#     test_data = test_data.astype('float32')\n",
    "#     train_data /= 255\n",
    "#     test_data /= 255\n",
    "\n",
    "#     return train_data, test_data, input_shape\n",
    "\n",
    "\n",
    "# def classfication1(x_train, y_train, x_test, y_test, batch_size, epochs):\n",
    "\n",
    "#     model = Sequential()\n",
    "#     model.add(Input(shape=input_shape))\n",
    "#     model.add(Conv2D(filters=32,\n",
    "#                      kernel_size=(3, 3),\n",
    "#                      activation='relu',\n",
    "#                      kernel_regularizer='l2'))\n",
    "#     model.add(MaxPooling2D(pool_size=(2, 2)))\n",
    "#     model.add(BatchNormalization())\n",
    "#     model.add(Dropout(0.25))\n",
    "#     model.add(Conv2D(filters=64,\n",
    "#                      kernel_size=(3, 3),\n",
    "#                      activation='relu',\n",
    "#                      kernel_regularizer='l2'))\n",
    "#     model.add(MaxPooling2D(pool_size=(2, 2)))\n",
    "#     model.add(BatchNormalization())\n",
    "#     model.add(Dropout(0.25))\n",
    "#     model.add(Conv2D(filters=128,\n",
    "#                      kernel_size=(3, 3),\n",
    "#                      activation='relu',\n",
    "#                      kernel_regularizer='l2'))\n",
    "#     model.add(MaxPooling2D(pool_size=(2, 2)))\n",
    "#     model.add(BatchNormalization())\n",
    "#     model.add(Dropout(0.25))\n",
    "\n",
    "#     model.add(Flatten())\n",
    "#     model.add(Dense(units=128,\n",
    "#                     activation='relu',\n",
    "#                     kernel_regularizer='l2'))\n",
    "#     model.add(Dense(units=256,\n",
    "#                     activation='relu',\n",
    "#                     kernel_regularizer='l2'))\n",
    "#     model.add(Dense(units=720,\n",
    "#                     activation = \"softmax\"))\n",
    "\n",
    "#     model.compile(loss='categorical_crossentropy',\n",
    "#                   optimizer='adam',\n",
    "#                   metrics=['accuracy'])\n",
    "\n",
    "#     his = model.fit(x_train, y_train,\n",
    "#               batch_size=batch_size,\n",
    "#               epochs=epochs,\n",
    "#               verbose=1,\n",
    "#               validation_data=(x_test, y_test))\n",
    "#     score = model.evaluate(x_test, y_test, verbose=0)\n",
    "#     print('Test loss:', score[0])\n",
    "#     print('Test mse:', score[1])\n",
    "#     return model, his"
   ]
  }
 ],
 "metadata": {
  "kernelspec": {
   "display_name": "Python 3.9.6 64-bit",
   "language": "python",
   "name": "python3"
  },
  "language_info": {
   "codemirror_mode": {
    "name": "ipython",
    "version": 3
   },
   "file_extension": ".py",
   "mimetype": "text/x-python",
   "name": "python",
   "nbconvert_exporter": "python",
   "pygments_lexer": "ipython3",
   "version": "3.9.6"
  },
  "orig_nbformat": 4,
  "vscode": {
   "interpreter": {
    "hash": "31f2aee4e71d21fbe5cf8b01ff0e069b9275f58929596ceb00d14d90e3e16cd6"
   }
  }
 },
 "nbformat": 4,
 "nbformat_minor": 2
}
