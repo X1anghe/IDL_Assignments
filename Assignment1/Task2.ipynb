{
 "cells": [
  {
   "cell_type": "code",
   "execution_count": 183,
   "metadata": {},
   "outputs": [],
   "source": [
    "import math\n",
    "import numpy as np\n",
    "import pandas as pd\n",
    "from sklearn.model_selection import train_test_split\n",
    "from matplotlib import pyplot as plt\n",
    "from sklearn.metrics import confusion_matrix, accuracy_score\n",
    "from sklearn.model_selection import KFold\n"
   ]
  },
  {
   "cell_type": "code",
   "execution_count": 184,
   "metadata": {},
   "outputs": [],
   "source": [
    "train_in = np.loadtxt('./Datasets/train_in.csv', \n",
    "                  delimiter=',',  \n",
    "                  skiprows=0,      \n",
    "                  dtype=float)       \n",
    "test_in = np.loadtxt('./Datasets/test_in.csv', \n",
    "                  delimiter=',',   \n",
    "                  skiprows=0,      \n",
    "                  dtype=float)       \n",
    "train_out = np.loadtxt('./Datasets/train_out.csv', \n",
    "                  delimiter=',',  \n",
    "                  skiprows=0,      \n",
    "                  dtype=float)       \n",
    "test_out = np.loadtxt('./Datasets/test_out.csv', \n",
    "                  delimiter=',',   \n",
    "                  skiprows=0,      \n",
    "                  dtype=float)       "
   ]
  },
  {
   "cell_type": "code",
   "execution_count": 185,
   "metadata": {},
   "outputs": [
    {
     "name": "stdout",
     "output_type": "stream",
     "text": [
      "(1365, 256) (342, 256) (1365,) (342,)\n",
      "Inputs_train\n"
     ]
    }
   ],
   "source": [
    "X_train, X_val, y_train, y_val = train_test_split(train_in, train_out, train_size=0.8, random_state=0)\n",
    "X_test = test_in\n",
    "y_test = test_out\n",
    "print(X_train.shape, X_val.shape, y_train.shape, y_val.shape)\n",
    "print('Inputs_train', )"
   ]
  },
  {
   "cell_type": "code",
   "execution_count": 186,
   "metadata": {},
   "outputs": [],
   "source": [
    "# input dataset\n",
    "def preprocessing(datasets):\n",
    "    return np.hstack((datasets, np.ones(len(datasets)).reshape(len(datasets),1)))"
   ]
  },
  {
   "cell_type": "code",
   "execution_count": 187,
   "metadata": {},
   "outputs": [],
   "source": [
    "def get_dummies(list, array):\n",
    "    for i, each in zip(list, array):\n",
    "        each[int(i)] = 1\n",
    "    return array"
   ]
  },
  {
   "cell_type": "code",
   "execution_count": 188,
   "metadata": {},
   "outputs": [],
   "source": [
    "# sigmoid function \n",
    "def sig(x):\n",
    "    return (1/(1+np.exp(-x)))\n",
    "\n",
    "def sig_prime(x):\n",
    "    return (x * (1 - x))"
   ]
  },
  {
   "cell_type": "code",
   "execution_count": 189,
   "metadata": {},
   "outputs": [],
   "source": [
    "Len_train = len(X_train)\n",
    "Len_val = len(X_val)\n",
    "Len_test = len(X_test)\n",
    "\n",
    "X_train = preprocessing(X_train)\n",
    "X_val = preprocessing(X_val)\n",
    "X_test = preprocessing(X_test)\n",
    "\n",
    "y_train_dummy = np.zeros(Len_train*10).reshape(Len_train, 10)\n",
    "y_train_dummy = get_dummies(y_train, y_train_dummy)\n",
    "y_val_dummy = np.zeros(Len_val*10).reshape(Len_val, 10)\n",
    "y_val_dummy = get_dummies(y_val, y_val_dummy)\n",
    "y_test_dummy = np.zeros(Len_test*10).reshape(Len_test, 10)\n",
    "y_test_dummy = get_dummies(y_test, y_test_dummy)"
   ]
  },
  {
   "cell_type": "code",
   "execution_count": 190,
   "metadata": {},
   "outputs": [],
   "source": [
    "kf = KFold(n_splits=5)\n",
    "\n",
    "kfold_index_list = []\n",
    "\n",
    "for cv_index_train, cv_index_test in kf.split(X_train):\n",
    "    kfold_index_list.append((cv_index_train, cv_index_test))"
   ]
  },
  {
   "cell_type": "code",
   "execution_count": 305,
   "metadata": {},
   "outputs": [],
   "source": [
    "def training(lr, w, x, y_dummy):\n",
    "    for iter in range(1):\n",
    "        for i in range(len(x)):\n",
    "            y_hat = sig(np.dot(x[i], w))\n",
    "            print(y_hat)\n",
    "            break\n",
    "            \n",
    "            diff = y_dummy[i] - y_hat\n",
    "            x_re = x[i].reshape(257,1)\n",
    "            # print(y_hat)\n",
    "            sp = sig_prime(y_hat) * diff\n",
    "            w += lr * x_re * sp\n",
    "\n",
    "        if iter % 10 == 0 :\n",
    "            arg_y_hat = np.argmax(sig(np.dot(x, w)), axis=1)\n",
    "            arg_y_dummy = np.argmax(y_dummy, axis=1)\n",
    "            arg_diff = abs(arg_y_dummy - arg_y_hat)\n",
    "            acc = (len(y_dummy)-np.sum(arg_diff>0))/len(y_dummy)\n",
    "            # print(sum(arg_diff))\n",
    "        if acc > 0.97:\n",
    "            break\n",
    "    return w"
   ]
  },
  {
   "cell_type": "code",
   "execution_count": 306,
   "metadata": {},
   "outputs": [
    {
     "name": "stdout",
     "output_type": "stream",
     "text": [
      "[6.58508602e-26 2.19986935e-27 2.56338564e-25 4.66747100e-23\n",
      " 2.46219685e-25 2.01273252e-22 1.12407051e-27 3.49367980e-26\n",
      " 8.80330772e-26 1.48612205e-26]\n"
     ]
    }
   ],
   "source": [
    "np.random.seed(2022)\n",
    "w0 = np.random.random((257,10))\n",
    "lr = 0.3\n",
    "w = training(lr, w0, X_train, y_train_dummy)"
   ]
  },
  {
   "cell_type": "code",
   "execution_count": 193,
   "metadata": {},
   "outputs": [],
   "source": [
    "# def training(lr, w, train_x, y_train_dummy):\n",
    "#     for iter in range(100000):\n",
    "#         y_hat = sig(np.dot(train_x, w))\n",
    "#         # e = pow((y_train_dummy - y) * (y_train_dummy - y), 0.5)\n",
    "#         diff = y_train_dummy - y_hat\n",
    "#         # if iter % 100 == 0 :\n",
    "#         #    print(sum(sum(abs(e))))\n",
    "#         if sum(sum(abs(diff))) <= 1e-04:\n",
    "#             # print(iter)\n",
    "#             break\n",
    "#         # updata w0(weight)\n",
    "#         # print(w0.shape, train_x.shape, e.shape)\n",
    "#         # print((1-w0) * w0)\n",
    "#         # w0 += lr * np.dot(train_x.T, e) * ((1-w0) * w0)\n",
    "#         w += lr * np.dot(train_x.T, diff)\n",
    "#         # print(sum(sum(((1-w0) * w0))))\n",
    "#     return w"
   ]
  },
  {
   "cell_type": "code",
   "execution_count": 194,
   "metadata": {},
   "outputs": [],
   "source": [
    "def predict(lr, w, train_x, y_train_dummy):\n",
    "    y_hat = sig(np.dot(train_x, w))\n",
    "    return np.argmax(y_hat, axis=1)"
   ]
  },
  {
   "cell_type": "code",
   "execution_count": 195,
   "metadata": {},
   "outputs": [
    {
     "data": {
      "text/plain": [
       "273"
      ]
     },
     "execution_count": 195,
     "metadata": {},
     "output_type": "execute_result"
    }
   ],
   "source": [
    "len(y_train_dummy[kfold_index_list[1][1]])"
   ]
  },
  {
   "cell_type": "code",
   "execution_count": 234,
   "metadata": {},
   "outputs": [],
   "source": [
    "W_experiments = np.zeros(257*10*4).reshape(4, 257,10)\n"
   ]
  },
  {
   "cell_type": "code",
   "execution_count": 267,
   "metadata": {},
   "outputs": [],
   "source": [
    "def generate_w0(sections):\n",
    "    np.random.seed(2022)\n",
    "    W_experiments = np.zeros(257*10*len(sections)).reshape(len(sections), 257,10)\n",
    "    index = 0\n",
    "    for i in sections:\n",
    "        # print(i[0], i[1])\n",
    "        W_experiments[index] = np.random.uniform(i[0], i[1], size=(257,10))\n",
    "        index += 1\n",
    "    return W_experiments"
   ]
  },
  {
   "cell_type": "code",
   "execution_count": 308,
   "metadata": {},
   "outputs": [],
   "source": [
    "# np.random.seed(2022)\n",
    "# w0 = np.random.uniform(-0.3,0.3,size=(257,10))\n",
    "sections = [(0, 1), (-0.5, 0.5), (-0.3, 0.3), (-0.1, 0.1)]\n",
    "lr = 0.3\n",
    "W_experiments = generate_w0(sections)\n"
   ]
  },
  {
   "cell_type": "code",
   "execution_count": 286,
   "metadata": {},
   "outputs": [],
   "source": [
    "def generate_acc(w):\n",
    "    pred_val = predict(lr, w, X_val, y_val_dummy)\n",
    "    acc_val = accuracy_score(y_val, pred_val)\n",
    "\n",
    "    pred_test = predict(lr, w, X_test, y_test_dummy)\n",
    "    acc_test = accuracy_score(y_test, pred_test)\n",
    "\n",
    "    return acc_val, acc_test"
   ]
  },
  {
   "cell_type": "code",
   "execution_count": 288,
   "metadata": {},
   "outputs": [
    {
     "name": "stdout",
     "output_type": "stream",
     "text": [
      "Training with weights section:  Completely random\n",
      "Accuracy train:  0.18827838827838828 Accuracy validation 0.21637426900584794 Accuracy test 0.228\n"
     ]
    }
   ],
   "source": [
    "w_list = []\n",
    "results = []\n",
    "w_list.clear()\n",
    "results.clear()\n",
    "np.random.seed(2022)\n",
    "w0 = np.random.random((257,10))\n",
    "w = training(lr, w0, X_train, y_train_dummy)\n",
    "\n",
    "pred_train = predict(lr, w, X_train, y_train_dummy)\n",
    "acc_train = accuracy_score(y_train, pred_train)\n",
    "acc_val, acc_test = generate_acc(w)\n",
    "\n",
    "w_list.append(w)\n",
    "\n",
    "print(\"Training with weights section: \", 'Completely random')\n",
    "print(\"Accuracy train: \", acc_train, \"Accuracy validation\", acc_val, \"Accuracy test\", acc_test)"
   ]
  },
  {
   "cell_type": "code",
   "execution_count": 309,
   "metadata": {},
   "outputs": [
    {
     "name": "stdout",
     "output_type": "stream",
     "text": [
      "0\n",
      "[6.58508602e-26 2.19986935e-27 2.56338564e-25 4.66747100e-23\n",
      " 2.46219685e-25 2.01273252e-22 1.12407051e-27 3.49367980e-26\n",
      " 8.80330772e-26 1.48612205e-26]\n",
      "1\n",
      "[8.37092592e-04 6.36181405e-02 1.06047226e-03 1.84816612e-01\n",
      " 4.05882067e-03 4.32710131e-02 1.21598014e-02 1.37910674e-01\n",
      " 3.54921376e-01 9.24581012e-01]\n",
      "2\n",
      "[0.94113812 0.28103678 0.82438899 0.1787882  0.98030265 0.04542156\n",
      " 0.86962751 0.10038062 0.02523382 0.22078227]\n",
      "3\n",
      "[0.78453517 0.36183599 0.6208968  0.74105359 0.21007787 0.25580886\n",
      " 0.20071424 0.60120015 0.65347593 0.52780036]\n",
      "Training with weights section:  (0, 1)\n",
      "Accuracy train:  0.9413919413919414 Accuracy validation 0.9502923976608187 Accuracy test 0.872\n",
      "Training with weights section:  (-0.5, 0.5)\n",
      "Accuracy train:  0.9560439560439561 Accuracy validation 0.9473684210526315 Accuracy test 0.882\n",
      "Training with weights section:  (-0.3, 0.3)\n",
      "Accuracy train:  0.9706959706959707 Accuracy validation 0.956140350877193 Accuracy test 0.883\n",
      "Training with weights section:  (-0.1, 0.1)\n",
      "Accuracy train:  0.9816849816849816 Accuracy validation 0.9473684210526315 Accuracy test 0.881\n"
     ]
    }
   ],
   "source": [
    "for w0_index in range(len(sections)):\n",
    "    print(w0_index)\n",
    "    w0 = W_experiments[w0_index]\n",
    "    w = training(lr, w0, X_train, y_train_dummy)\n",
    "    \n",
    "    pred_train = predict(lr, w, X_train, y_train_dummy)\n",
    "    acc_train = accuracy_score(y_train, pred_train)\n",
    "    acc_val, acc_test = generate_acc(w)\n",
    "\n",
    "    w_list.append(w)\n",
    "    results.append((acc_train, acc_val, acc_test))\n",
    "for i in range(len(sections)):\n",
    "    acc, acc_val, acc_test = results[i]\n",
    "    print(\"Training with weights section: \", sections[i])\n",
    "    print(\"Accuracy train: \", acc, \"Accuracy validation\", acc_val, \"Accuracy test\", acc_test)\n",
    "\n"
   ]
  },
  {
   "cell_type": "code",
   "execution_count": 292,
   "metadata": {},
   "outputs": [
    {
     "name": "stdout",
     "output_type": "stream",
     "text": [
      "Training with weights section:  0, 0\n",
      "Accuracy train:  0.9706959706959707 Accuracy validation 0.956140350877193 Accuracy test 0.879\n"
     ]
    }
   ],
   "source": [
    "w0 = np.zeros(257*10).reshape(257, 10)\n",
    "w = training(lr, w0, X_train, y_train_dummy)\n",
    "\n",
    "pred_train = predict(lr, w, X_train, y_train_dummy)\n",
    "acc_train = accuracy_score(y_train, pred_train)\n",
    "acc_val, acc_test = generate_acc(w)\n",
    "\n",
    "w_list.append(w)\n",
    "\n",
    "print(\"Training with weights section: \", '0, 0')\n",
    "print(\"Accuracy train: \", acc_train, \"Accuracy validation\", acc_val, \"Accuracy test\", acc_test)"
   ]
  },
  {
   "cell_type": "code",
   "execution_count": 294,
   "metadata": {},
   "outputs": [
    {
     "data": {
      "text/plain": [
       "11"
      ]
     },
     "execution_count": 294,
     "metadata": {},
     "output_type": "execute_result"
    }
   ],
   "source": [
    "len(w_list)"
   ]
  },
  {
   "cell_type": "code",
   "execution_count": 254,
   "metadata": {},
   "outputs": [],
   "source": [
    "def best_weight():\n",
    "    return 0"
   ]
  },
  {
   "cell_type": "code",
   "execution_count": 300,
   "metadata": {},
   "outputs": [
    {
     "name": "stdout",
     "output_type": "stream",
     "text": [
      "Accuracy train:  0.9413919413919414 Accuracy validation 0.9502923976608187 Accuracy test 0.872\n",
      "Accuracy train:  0.9560439560439561 Accuracy validation 0.9473684210526315 Accuracy test 0.882\n",
      "Accuracy train:  0.9706959706959707 Accuracy validation 0.956140350877193 Accuracy test 0.883\n",
      "Accuracy train:  0.9816849816849816 Accuracy validation 0.9473684210526315 Accuracy test 0.881\n",
      "Accuracy train:  0.9816849816849816 Accuracy validation 0.9502923976608187 Accuracy test 0.879\n"
     ]
    }
   ],
   "source": [
    "np.random.seed(2022)\n",
    "w0 = np.random.uniform(-0.3, 0.3, size=(257,10))\n",
    "lr = 0.3\n",
    "w_list.clear()\n",
    "results.clear()\n",
    "for i in range(5):\n",
    "    w = training(lr, w0, X_train[kfold_index_list[i][0]], y_train_dummy[kfold_index_list[i][0]])\n",
    "\n",
    "    pred_train = predict(lr, w, X_train[kfold_index_list[i][1]], y_train_dummy[kfold_index_list[i][1]])\n",
    "    acc_train = accuracy_score(y_train[kfold_index_list[i][1]], pred_train)\n",
    "\n",
    "    pred_val = predict(lr, w, X_val, y_val_dummy)\n",
    "    acc_val = accuracy_score(y_val, pred_val)\n",
    "\n",
    "    pred_test = predict(lr, w, X_test, y_test_dummy)\n",
    "    acc_test = accuracy_score(y_test, pred_test)\n",
    "\n",
    "    w_list.append(w)\n",
    "    results.append((acc_train, acc_val, acc_test))\n",
    "\n",
    "for acc, acc_val, acc_test in results:\n",
    "    print(\"Accuracy train: \", acc, \"Accuracy validation\", acc_val, \"Accuracy test\", acc_test)\n"
   ]
  },
  {
   "cell_type": "code",
   "execution_count": 298,
   "metadata": {},
   "outputs": [
    {
     "data": {
      "text/plain": [
       "5"
      ]
     },
     "execution_count": 298,
     "metadata": {},
     "output_type": "execute_result"
    }
   ],
   "source": [
    "len(w_list)"
   ]
  },
  {
   "cell_type": "code",
   "execution_count": 301,
   "metadata": {},
   "outputs": [
    {
     "data": {
      "text/plain": [
       "array([[215,   0,   3,   3,   2,   3,   2,   0,   3,   0],\n",
       "       [  0, 113,   0,   0,   1,   0,   0,   0,   2,   1],\n",
       "       [  1,   0,  80,   2,   0,   0,   0,   1,   3,   0],\n",
       "       [  1,   0,   2,  67,   0,  11,   1,   1,   4,   0],\n",
       "       [  3,   2,   5,   1,  76,   2,   1,   3,   1,   3],\n",
       "       [  1,   0,   0,   1,   2,  35,   0,   0,   2,   2],\n",
       "       [  1,   3,   2,   0,   2,   0,  86,   0,   0,   0],\n",
       "       [  0,   2,   2,   1,   1,   2,   0,  56,   4,   2],\n",
       "       [  1,   0,   7,   3,   0,   0,   0,   0,  73,   1],\n",
       "       [  1,   1,   0,   1,   2,   2,   0,   3,   0,  79]])"
      ]
     },
     "execution_count": 301,
     "metadata": {},
     "output_type": "execute_result"
    }
   ],
   "source": [
    "## confusion Test\n",
    "np.random.seed(2022)\n",
    "w0 = np.random.uniform(-0.3, 0.3, size=(257,10))\n",
    "w = training(lr, w0, X_train, y_train_dummy)\n",
    "confusion_matrix(predict(lr, w, X_test, y_test_dummy), y_test)"
   ]
  },
  {
   "cell_type": "code",
   "execution_count": 199,
   "metadata": {},
   "outputs": [],
   "source": [
    "# w0 = np.random.random((257,10))\n",
    "# lr = 0.3\n",
    "# w = training(lr, w0, X_train, y_train_dummy)"
   ]
  }
 ],
 "metadata": {
  "kernelspec": {
   "display_name": "Python 3.9.6 64-bit",
   "language": "python",
   "name": "python3"
  },
  "language_info": {
   "codemirror_mode": {
    "name": "ipython",
    "version": 3
   },
   "file_extension": ".py",
   "mimetype": "text/x-python",
   "name": "python",
   "nbconvert_exporter": "python",
   "pygments_lexer": "ipython3",
   "version": "3.9.6"
  },
  "orig_nbformat": 4,
  "vscode": {
   "interpreter": {
    "hash": "31f2aee4e71d21fbe5cf8b01ff0e069b9275f58929596ceb00d14d90e3e16cd6"
   }
  }
 },
 "nbformat": 4,
 "nbformat_minor": 2
}
