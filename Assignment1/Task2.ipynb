{
 "cells": [
  {
   "cell_type": "code",
   "execution_count": 38,
   "metadata": {},
   "outputs": [],
   "source": [
    "import math\n",
    "import numpy as np\n",
    "import pandas as pd\n",
    "from sklearn.model_selection import train_test_split\n",
    "from matplotlib import pyplot as plt\n",
    "from sklearn.metrics import confusion_matrix, accuracy_score\n",
    "from sklearn.model_selection import KFold\n",
    "from matplotlib import pyplot as plt\n",
    "from sklearn.neighbors import KNeighborsClassifier as knn"
   ]
  },
  {
   "cell_type": "code",
   "execution_count": 39,
   "metadata": {},
   "outputs": [],
   "source": [
    "# load data\n",
    "train_in = np.loadtxt('./Datasets/train_in.csv', \n",
    "                  delimiter=',',  \n",
    "                  skiprows=0,      \n",
    "                  dtype=float)       \n",
    "test_in = np.loadtxt('./Datasets/test_in.csv', \n",
    "                  delimiter=',',   \n",
    "                  skiprows=0,      \n",
    "                  dtype=float)       \n",
    "train_out = np.loadtxt('./Datasets/train_out.csv', \n",
    "                  delimiter=',',  \n",
    "                  skiprows=0,      \n",
    "                  dtype=float)       \n",
    "test_out = np.loadtxt('./Datasets/test_out.csv', \n",
    "                  delimiter=',',   \n",
    "                  skiprows=0,      \n",
    "                  dtype=float)       "
   ]
  },
  {
   "cell_type": "code",
   "execution_count": 40,
   "metadata": {},
   "outputs": [],
   "source": [
    "# adding additional 1 to datasets\n",
    "def preprocessing(datasets):\n",
    "    return np.hstack((datasets, np.ones(len(datasets)).reshape(len(datasets),1)))"
   ]
  },
  {
   "cell_type": "code",
   "execution_count": 41,
   "metadata": {},
   "outputs": [],
   "source": [
    "# transforming vector to dummy matrix\n",
    "def get_dummies(list, array):\n",
    "    for i, each in zip(list, array):\n",
    "        each[int(i)] = 1\n",
    "    return array"
   ]
  },
  {
   "cell_type": "code",
   "execution_count": 42,
   "metadata": {},
   "outputs": [],
   "source": [
    "# sigmoid function \n",
    "def sig(x):\n",
    "    return (1/(1+np.exp(-x)))\n",
    "\n",
    "def sig_prime(x):\n",
    "    return (x * (1 - x))"
   ]
  },
  {
   "cell_type": "code",
   "execution_count": 43,
   "metadata": {},
   "outputs": [
    {
     "name": "stdout",
     "output_type": "stream",
     "text": [
      "(1365, 256) (342, 256) (1365,) (342,)\n",
      "Inputs_train\n"
     ]
    }
   ],
   "source": [
    "# preprocessing train_in, train_out, test_in, test_out\n",
    "X_train, X_val, y_train, y_val = train_test_split(train_in, train_out, train_size=0.8, random_state=0)\n",
    "X_test = test_in\n",
    "y_test = test_out\n",
    "print(X_train.shape, X_val.shape, y_train.shape, y_val.shape)\n",
    "print('Inputs_train', )\n",
    "\n",
    "Len_train = len(X_train)\n",
    "Len_val = len(X_val)\n",
    "Len_test = len(X_test)\n",
    "\n",
    "X_train = preprocessing(X_train)\n",
    "X_val = preprocessing(X_val)\n",
    "X_test = preprocessing(X_test)\n",
    "\n",
    "y_train_dummy = np.zeros(Len_train*10).reshape(Len_train, 10)\n",
    "y_train_dummy = get_dummies(y_train, y_train_dummy)\n",
    "y_val_dummy = np.zeros(Len_val*10).reshape(Len_val, 10)\n",
    "y_val_dummy = get_dummies(y_val, y_val_dummy)\n",
    "y_test_dummy = np.zeros(Len_test*10).reshape(Len_test, 10)\n",
    "y_test_dummy = get_dummies(y_test, y_test_dummy)"
   ]
  },
  {
   "cell_type": "code",
   "execution_count": 44,
   "metadata": {},
   "outputs": [],
   "source": [
    "# 5-fold splits\n",
    "kf = KFold(n_splits=5)\n",
    "kfold_index_list = []\n",
    "for cv_index_train, cv_index_test in kf.split(X_train):\n",
    "    kfold_index_list.append((cv_index_train, cv_index_test))"
   ]
  },
  {
   "cell_type": "code",
   "execution_count": 45,
   "metadata": {},
   "outputs": [],
   "source": [
    "def mse(actual, pred):\n",
    "    return np.mean((actual - pred)**2)"
   ]
  },
  {
   "cell_type": "code",
   "execution_count": 46,
   "metadata": {},
   "outputs": [],
   "source": [
    "# training function, stop with acc > 0.97 or iter > 999\n",
    "def training(lr, w, x, y_dummy):\n",
    "    for iter in range(1000):\n",
    "        for i in range(len(x)):\n",
    "            y_hat = sig(np.dot(x[i], w))\n",
    "            diff = y_dummy[i] - y_hat\n",
    "            x_re = x[i].reshape(257,1)\n",
    "            # print(y_hat)\n",
    "            sp = sig_prime(y_hat) * diff\n",
    "            w += lr * x_re * sp\n",
    "\n",
    "        if iter % 10 == 0 :\n",
    "            # arg_y_hat = np.argmax(sig(np.dot(x, w)), axis=1)\n",
    "            # arg_y_dummy = np.argmax(y_dummy, axis=1)\n",
    "            # arg_diff = abs(arg_y_dummy - arg_y_hat)\n",
    "            # acc = (len(y_dummy)-np.sum(arg_diff>0))/len(y_dummy)\n",
    "            # print(sum(arg_diff))\n",
    "            Mse = mse(y_dummy, sig(np.dot(x, w)))\n",
    "            # print(Mse)\n",
    "        if Mse < 1e-2:\n",
    "            print('iter', iter)\n",
    "            break\n",
    "    return w"
   ]
  },
  {
   "cell_type": "code",
   "execution_count": 47,
   "metadata": {},
   "outputs": [],
   "source": [
    "def predict(lr, w, train_x, y_train_dummy):\n",
    "    y_hat = sig(np.dot(train_x, w))\n",
    "    return np.argmax(y_hat, axis=1)"
   ]
  },
  {
   "cell_type": "code",
   "execution_count": 48,
   "metadata": {},
   "outputs": [],
   "source": [
    "# generate w0 with different weights distribution\n",
    "def generate_w0(sections):\n",
    "    np.random.seed(2022)\n",
    "    W_experiments = np.zeros(257*10*len(sections)).reshape(len(sections), 257,10)\n",
    "    index = 0\n",
    "    for i in sections:\n",
    "        # print(i[0], i[1])\n",
    "        W_experiments[index] = np.random.uniform(i[0], i[1], size=(257,10))\n",
    "        index += 1\n",
    "    return W_experiments"
   ]
  },
  {
   "cell_type": "code",
   "execution_count": 49,
   "metadata": {},
   "outputs": [],
   "source": [
    "# calculate accuracy on val, test set (with in put w)\n",
    "def generate_acc(w):\n",
    "    pred_val = predict(lr, w, X_val, y_val_dummy)\n",
    "    acc_val = accuracy_score(y_val, pred_val)\n",
    "\n",
    "    pred_test = predict(lr, w, X_test, y_test_dummy)\n",
    "    acc_test = accuracy_score(y_test, pred_test)\n",
    "\n",
    "    return acc_val, acc_test"
   ]
  },
  {
   "cell_type": "code",
   "execution_count": 50,
   "metadata": {},
   "outputs": [
    {
     "name": "stdout",
     "output_type": "stream",
     "text": [
      "0\n",
      "1\n",
      "iter 600\n",
      "2\n",
      "iter 10\n",
      "3\n",
      "iter 10\n",
      "Training with weights section:  (-1, 1)\n",
      "Accuracy train:  0.8065934065934066 Accuracy validation 0.7953216374269005 Accuracy test 0.726\n",
      "Training with weights section:  (-0.5, 0.5)\n",
      "Accuracy train:  0.9816849816849816 Accuracy validation 0.9619883040935673 Accuracy test 0.879\n",
      "Training with weights section:  (-0.3, 0.3)\n",
      "Accuracy train:  0.9611721611721612 Accuracy validation 0.9590643274853801 Accuracy test 0.878\n",
      "Training with weights section:  (-0.1, 0.1)\n",
      "Accuracy train:  0.9721611721611721 Accuracy validation 0.9619883040935673 Accuracy test 0.888\n"
     ]
    }
   ],
   "source": [
    "# training on uniform weights (-1, 1), (-0.5, 0.5), (-0.3, 0.3), (-0.1, 0.1)\n",
    "w_list = []\n",
    "results = []\n",
    "w_list.clear()\n",
    "results.clear()\n",
    "np.random.seed(2022)\n",
    "sections = [(-1, 1), (-0.5, 0.5), (-0.3, 0.3), (-0.1, 0.1)]\n",
    "lr = 0.03\n",
    "W_experiments = generate_w0(sections)\n",
    "\n",
    "for w0_index in range(len(sections)):\n",
    "    print(w0_index)\n",
    "    w0 = W_experiments[w0_index]\n",
    "    w = training(lr, w0, X_train, y_train_dummy)\n",
    "    \n",
    "    pred_train = predict(lr, w, X_train, y_train_dummy)\n",
    "    acc_train = accuracy_score(y_train, pred_train)\n",
    "    acc_val, acc_test = generate_acc(w)\n",
    "\n",
    "    w_list.append(w)\n",
    "    results.append((acc_train, acc_val, acc_test))\n",
    "for i in range(len(sections)):\n",
    "    acc, acc_val, acc_test = results[i]\n",
    "    print(\"Training with weights section: \", sections[i])\n",
    "    print(\"Accuracy train: \", acc, \"Accuracy validation\", acc_val, \"Accuracy test\", acc_test)"
   ]
  },
  {
   "cell_type": "code",
   "execution_count": 51,
   "metadata": {},
   "outputs": [
    {
     "name": "stdout",
     "output_type": "stream",
     "text": [
      "iter 230\n",
      "Training with weights section:  Completely random\n",
      "Accuracy train:  0.9032967032967033 Accuracy validation 0.8888888888888888 Accuracy test 0.815\n"
     ]
    }
   ],
   "source": [
    "# training on normal weights (0, 0.3)\n",
    "lr = 0.03\n",
    "w_list = []\n",
    "results = []\n",
    "w_list.clear()\n",
    "results.clear()\n",
    "np.random.seed(2022)\n",
    "w0 = np.random.normal(loc=0.0, scale=0.3, size=(257, 10))\n",
    "w = training(lr, w0, X_train, y_train_dummy)\n",
    "\n",
    "pred_train = predict(lr, w, X_train, y_train_dummy)\n",
    "acc_train = accuracy_score(y_train, pred_train)\n",
    "acc_val, acc_test = generate_acc(w)\n",
    "\n",
    "w_list.append(w)\n",
    "\n",
    "print(\"Training with weights section: \", 'Completely random')\n",
    "print(\"Accuracy train: \", acc_train, \"Accuracy validation\", acc_val, \"Accuracy test\", acc_test)"
   ]
  },
  {
   "cell_type": "code",
   "execution_count": 52,
   "metadata": {},
   "outputs": [
    {
     "name": "stdout",
     "output_type": "stream",
     "text": [
      "Training with weights section:  Completely random\n",
      "Accuracy train:  0.8989010989010989 Accuracy validation 0.8947368421052632 Accuracy test 0.805\n"
     ]
    }
   ],
   "source": [
    "# training on normal weights (0, 0.5)\n",
    "w_list = []\n",
    "results = []\n",
    "w_list.clear()\n",
    "results.clear()\n",
    "np.random.seed(2022)\n",
    "w0 = np.random.normal(loc=0.0, scale=0.5, size=(257, 10))\n",
    "w = training(lr, w0, X_train, y_train_dummy)\n",
    "\n",
    "pred_train = predict(lr, w, X_train, y_train_dummy)\n",
    "acc_train = accuracy_score(y_train, pred_train)\n",
    "acc_val, acc_test = generate_acc(w)\n",
    "\n",
    "w_list.append(w)\n",
    "\n",
    "print(\"Training with weights section: \", 'Completely random')\n",
    "print(\"Accuracy train: \", acc_train, \"Accuracy validation\", acc_val, \"Accuracy test\", acc_test)"
   ]
  },
  {
   "cell_type": "code",
   "execution_count": 53,
   "metadata": {},
   "outputs": [
    {
     "name": "stdout",
     "output_type": "stream",
     "text": [
      "iter 10\n",
      "Training with weights section:  Completely random\n",
      "Accuracy train:  0.9714285714285714 Accuracy validation 0.9707602339181286 Accuracy test 0.89\n"
     ]
    }
   ],
   "source": [
    "# training on normal weights (0, 0.1)\n",
    "w_list = []\n",
    "results = []\n",
    "w_list.clear()\n",
    "results.clear()\n",
    "np.random.seed(2022)\n",
    "lr = 0.03\n",
    "w0 = np.random.normal(loc=0.0, scale=0.1, size=(257, 10))\n",
    "w = training(lr, w0, X_train, y_train_dummy)\n",
    "\n",
    "pred_train = predict(lr, w, X_train, y_train_dummy)\n",
    "acc_train = accuracy_score(y_train, pred_train)\n",
    "acc_val, acc_test = generate_acc(w)\n",
    "\n",
    "w_list.append(w)\n",
    "\n",
    "print(\"Training with weights section: \", 'Completely random')\n",
    "print(\"Accuracy train: \", acc_train, \"Accuracy validation\", acc_val, \"Accuracy test\", acc_test)"
   ]
  },
  {
   "cell_type": "code",
   "execution_count": 54,
   "metadata": {},
   "outputs": [
    {
     "name": "stdout",
     "output_type": "stream",
     "text": [
      "Training with weights section:  Completely random\n",
      "Accuracy train:  0.7904761904761904 Accuracy validation 0.8099415204678363 Accuracy test 0.712\n"
     ]
    }
   ],
   "source": [
    "# training on normal weights (0, 1)\n",
    "w_list = []\n",
    "results = []\n",
    "w_list.clear()\n",
    "results.clear()\n",
    "np.random.seed(2022)\n",
    "w0 = np.random.normal(loc=0.0, scale=1, size=(257, 10))\n",
    "w = training(lr, w0, X_train, y_train_dummy)\n",
    "\n",
    "pred_train = predict(lr, w, X_train, y_train_dummy)\n",
    "acc_train = accuracy_score(y_train, pred_train)\n",
    "acc_val, acc_test = generate_acc(w)\n",
    "\n",
    "w_list.append(w)\n",
    "\n",
    "print(\"Training with weights section: \", 'Completely random')\n",
    "print(\"Accuracy train: \", acc_train, \"Accuracy validation\", acc_val, \"Accuracy test\", acc_test)"
   ]
  },
  {
   "cell_type": "code",
   "execution_count": 55,
   "metadata": {},
   "outputs": [
    {
     "name": "stdout",
     "output_type": "stream",
     "text": [
      "Training with weights section:  0, 0\n",
      "Accuracy train:  0.18827838827838828 Accuracy validation 0.2134502923976608 Accuracy test 0.23\n"
     ]
    }
   ],
   "source": [
    "# training on weights completely random\n",
    "w0 = np.random.random(257*10).reshape(257, 10)\n",
    "w = training(lr, w0, X_train, y_train_dummy)\n",
    "\n",
    "pred_train = predict(lr, w, X_train, y_train_dummy)\n",
    "acc_train = accuracy_score(y_train, pred_train)\n",
    "acc_val, acc_test = generate_acc(w)\n",
    "\n",
    "w_list.append(w)\n",
    "\n",
    "print(\"Training with weights section: \", '0, 0')\n",
    "print(\"Accuracy train: \", acc_train, \"Accuracy validation\", acc_val, \"Accuracy test\", acc_test)"
   ]
  },
  {
   "cell_type": "code",
   "execution_count": 56,
   "metadata": {},
   "outputs": [
    {
     "name": "stdout",
     "output_type": "stream",
     "text": [
      "iter 10\n",
      "Training with weights section:  0, 0\n",
      "Accuracy train:  0.9728937728937729 Accuracy validation 0.9619883040935673 Accuracy test 0.888\n"
     ]
    }
   ],
   "source": [
    "# training on weights = 0\n",
    "w0 = np.zeros(257*10).reshape(257, 10)\n",
    "w = training(lr, w0, X_train, y_train_dummy)\n",
    "\n",
    "pred_train = predict(lr, w, X_train, y_train_dummy)\n",
    "acc_train = accuracy_score(y_train, pred_train)\n",
    "acc_val, acc_test = generate_acc(w)\n",
    "\n",
    "w_list.append(w)\n",
    "\n",
    "print(\"Training with weights section: \", '0, 0')\n",
    "print(\"Accuracy train: \", acc_train, \"Accuracy validation\", acc_val, \"Accuracy test\", acc_test)"
   ]
  },
  {
   "cell_type": "code",
   "execution_count": 57,
   "metadata": {},
   "outputs": [
    {
     "name": "stdout",
     "output_type": "stream",
     "text": [
      "iter 10\n",
      "iter 0\n",
      "iter 0\n",
      "iter 0\n",
      "iter 0\n",
      "Accuracy train:  0.9487179487179487 Accuracy validation 0.9678362573099415 Accuracy test 0.881\n",
      "Accuracy train:  0.9597069597069597 Accuracy validation 0.9649122807017544 Accuracy test 0.884\n",
      "Accuracy train:  0.9743589743589743 Accuracy validation 0.9678362573099415 Accuracy test 0.887\n",
      "Accuracy train:  0.9743589743589743 Accuracy validation 0.9678362573099415 Accuracy test 0.89\n",
      "Accuracy train:  0.9743589743589743 Accuracy validation 0.9619883040935673 Accuracy test 0.891\n"
     ]
    }
   ],
   "source": [
    "# cross-validation on normal weights (0, 0.3)\n",
    "np.random.seed(2022)\n",
    "w0 = np.random.normal(loc=0.0, scale=0.1, size=(257, 10))\n",
    "lr = 0.03\n",
    "w_list.clear()\n",
    "results.clear()\n",
    "for i in range(5):\n",
    "    w = training(lr, w0, X_train[kfold_index_list[i][0]], y_train_dummy[kfold_index_list[i][0]])\n",
    "\n",
    "    pred_train = predict(lr, w, X_train[kfold_index_list[i][1]], y_train_dummy[kfold_index_list[i][1]])\n",
    "    acc_train = accuracy_score(y_train[kfold_index_list[i][1]], pred_train)\n",
    "\n",
    "    pred_val = predict(lr, w, X_val, y_val_dummy)\n",
    "    acc_val = accuracy_score(y_val, pred_val)\n",
    "\n",
    "    pred_test = predict(lr, w, X_test, y_test_dummy)\n",
    "    acc_test = accuracy_score(y_test, pred_test)\n",
    "\n",
    "    w_list.append(w)\n",
    "    results.append((acc_train, acc_val, acc_test))\n",
    "\n",
    "for acc, acc_val, acc_test in results:\n",
    "    print(\"Accuracy train: \", acc, \"Accuracy validation\", acc_val, \"Accuracy test\", acc_test)\n"
   ]
  },
  {
   "cell_type": "code",
   "execution_count": 73,
   "metadata": {},
   "outputs": [
    {
     "name": "stdout",
     "output_type": "stream",
     "text": [
      "iter 10\n"
     ]
    },
    {
     "data": {
      "text/plain": [
       "<matplotlib.colorbar.Colorbar at 0x16665889ca0>"
      ]
     },
     "execution_count": 73,
     "metadata": {},
     "output_type": "execute_result"
    },
    {
     "data": {
      "image/png": "[encoded data removed]",
      "text/plain": [
       "<Figure size 792x792 with 2 Axes>"
      ]
     },
     "metadata": {
      "needs_background": "light"
     },
     "output_type": "display_data"
    }
   ],
   "source": [
    "# confusion martix on train set\n",
    "np.random.seed(2022)\n",
    "w0 = np.random.normal(loc=0.0, scale=0.1, size=(257, 10))\n",
    "w = training(lr, w0, X_train, y_train_dummy)\n",
    "\n",
    "plt.rc('figure',figsize=(11,11)) \n",
    "cm = confusion_matrix(y_train, predict(lr, w, X_train, y_train_dummy)) \n",
    "plt.matshow(cm,cmap=plt.cm.Blues) \n",
    "cm_x_ticks=[0,1,2,3,4,5,6,7,8,9] \n",
    "for i in range(cm.shape[0]): \n",
    "  for j in range(cm.shape[1]): \n",
    "    plt.text(x=j, y=i, s=cm[i, j], \n",
    "fontsize=19,ha='center',va='center') \n",
    "my_x_ticks = [0,1,2,3,4,5,6,7,8,9] \n",
    "my_y_ticks = [0,1,2,3,4,5,6,7,8,9] \n",
    "plt.xticks(my_x_ticks, size=18, verticalalignment='bottom', y=-0.07) \n",
    "plt.yticks(my_y_ticks, size=18) \n",
    "plt.xlabel('Predicted label',fontdict={'fontsize':24}, labelpad=28 ) \n",
    "plt.ylabel('True label',fontdict={'fontsize':24})\n",
    "plt.rcParams['font.size'] = 19\n",
    "plt.colorbar(pad=0.02,shrink=0.83)"
   ]
  },
  {
   "cell_type": "code",
   "execution_count": 74,
   "metadata": {},
   "outputs": [
    {
     "name": "stdout",
     "output_type": "stream",
     "text": [
      "iter 10\n"
     ]
    },
    {
     "data": {
      "text/plain": [
       "<matplotlib.colorbar.Colorbar at 0x16665b30400>"
      ]
     },
     "execution_count": 74,
     "metadata": {},
     "output_type": "execute_result"
    },
    {
     "data": {
      "image/png": "[encoded data removed]",
      "text/plain": [
       "<Figure size 792x792 with 2 Axes>"
      ]
     },
     "metadata": {
      "needs_background": "light"
     },
     "output_type": "display_data"
    }
   ],
   "source": [
    "## # confusion martix on test set\n",
    "np.random.seed(2022)\n",
    "w0 = np.random.normal(loc=0.0, scale=0.1, size=(257, 10))\n",
    "w = training(lr, w0, X_train, y_train_dummy)\n",
    "\n",
    "plt.rc('figure',figsize=(11,11)) \n",
    "cm = confusion_matrix(y_test, predict(lr, w, X_test, y_test_dummy)) \n",
    "plt.matshow(cm,cmap=plt.cm.Blues) \n",
    "cm_x_ticks=[0,1,2,3,4,5,6,7,8,9] \n",
    "for i in range(cm.shape[0]): \n",
    "  for j in range(cm.shape[1]): \n",
    "    plt.text(x=j, y=i, s=cm[i, j], \n",
    "fontsize=19,ha='center',va='center') \n",
    "my_x_ticks = [0,1,2,3,4,5,6,7,8,9] \n",
    "my_y_ticks = [0,1,2,3,4,5,6,7,8,9] \n",
    "plt.xticks(my_x_ticks, size=18, verticalalignment='bottom', y=-0.07) \n",
    "plt.yticks(my_y_ticks, size=18) \n",
    "plt.xlabel('Predicted label',fontdict={'fontsize':24}, labelpad=28 ) \n",
    "plt.ylabel('True label',fontdict={'fontsize':24})\n",
    "plt.rcParams['font.size'] = 19\n",
    "plt.colorbar(pad=0.02,shrink=0.83)"
   ]
  },
  {
   "cell_type": "markdown",
   "metadata": {},
   "source": [
    "## Compare"
   ]
  },
  {
   "cell_type": "code",
   "execution_count": 69,
   "metadata": {},
   "outputs": [],
   "source": [
    "# generating a each number test set\n",
    "test_in_sort = np.hstack((test_in, test_out.reshape(1000,1)))\n",
    "test_in_sort = test_in_sort[test_in_sort[:,-1].argsort()]\n",
    "test_in_sort[:,-1] = 1\n",
    "test_out_sort = sorted(test_out)\n",
    "\n",
    "s = 0\n",
    "index_test = []\n",
    "for i in range(len(test_out_sort)):\n",
    "    if test_out_sort[i] > s:\n",
    "        index_test.append(i-1)\n",
    "        s += 1\n",
    "index_test.append(1000)"
   ]
  },
  {
   "cell_type": "code",
   "execution_count": 70,
   "metadata": {},
   "outputs": [],
   "source": [
    "# kNN result\n",
    "knn_model = knn()\n",
    "model_knn = knn_model.fit(train_in,train_out)\n",
    "test_pred_knn = model_knn.predict(test_in)"
   ]
  },
  {
   "cell_type": "code",
   "execution_count": 72,
   "metadata": {},
   "outputs": [
    {
     "name": "stdout",
     "output_type": "stream",
     "text": [
      "iter 10\n",
      "number: 0 Accuracy test single layer perceptron 0.968609865470852 knn 0.9775784753363229\n",
      "number: 1 Accuracy test single layer perceptron 0.9752066115702479 knn 0.9834710743801653\n",
      "number: 2 Accuracy test single layer perceptron 0.8217821782178217 knn 0.8415841584158416\n",
      "number: 3 Accuracy test single layer perceptron 0.8354430379746836 knn 0.8734177215189873\n",
      "number: 4 Accuracy test single layer perceptron 0.8488372093023255 knn 0.9186046511627907\n",
      "number: 5 Accuracy test single layer perceptron 0.7454545454545455 knn 0.6545454545454545\n",
      "number: 6 Accuracy test single layer perceptron 0.9444444444444444 knn 0.9333333333333333\n",
      "number: 7 Accuracy test single layer perceptron 0.859375 knn 0.875\n",
      "number: 8 Accuracy test single layer perceptron 0.7717391304347826 knn 0.8586956521739131\n",
      "number: 9 Accuracy test single layer perceptron 0.9213483146067416 knn 0.9325842696629213\n",
      "Accuracy test single layer perceptron 0.89 knn 0.908\n"
     ]
    }
   ],
   "source": [
    "# compare SLMP, KNN, DBC, SDBC on each number test set\n",
    "np.random.seed(2022)\n",
    "w0 = np.random.normal(loc=0.0, scale=0.1, size=(257, 10))\n",
    "train_in_p = preprocessing(train_in)\n",
    "train_out_dummy = np.zeros(len(train_out)*10).reshape(len(train_out), 10)\n",
    "train_out_dummy = get_dummies(train_out, train_out_dummy)\n",
    "\n",
    "w = training(lr, w0, train_in_p, train_out_dummy)\n",
    "\n",
    "test_out_sort_dummy = np.zeros(Len_test*10).reshape(Len_test, 10)\n",
    "test_out_sort_dummy = get_dummies(test_out_sort, test_out_sort_dummy)\n",
    "\n",
    "start = 0\n",
    "\n",
    "index = 0\n",
    "for end in index_test:\n",
    "    each_test_in = test_in_sort[:][start:end]\n",
    "    each_test_out = test_out_sort[:][start:end]\n",
    "    each_test_out_sort_dummy = test_out_sort_dummy[:][start:end]\n",
    "\n",
    "    pred_test = predict(lr, w, each_test_in, each_test_out_sort_dummy)\n",
    "    pred_test_knn = model_knn.predict(each_test_in[:, 0:-1])\n",
    "    # pred_test_D = D_classify111(dataset=each_test_in[:, 0:-1])\n",
    "\n",
    "    acc_test = accuracy_score(each_test_out, pred_test)\n",
    "    acc_test_knn = accuracy_score(each_test_out, pred_test_knn)\n",
    "    # acc_test_D = accuracy_score(each_test_out, pred_test_D)\n",
    "    print(\"number:\",index,\"Accuracy test\", \"single layer perceptron\",acc_test, \"knn\",acc_test_knn)\n",
    "\n",
    "    index += 1\n",
    "    start = end\n",
    "\n",
    "test_out_dummy = np.zeros(Len_test*10).reshape(Len_test, 10)\n",
    "test_out_dummy = get_dummies(test_out, test_out_dummy)\n",
    "test_in_p = preprocessing(test_in)\n",
    "\n",
    "\n",
    "pred_test = predict(lr, w, test_in_p, test_out_dummy)\n",
    "pred_test_knn = model_knn.predict(test_in)\n",
    "# pred_test_D = D_classify111(dataset=test_in)\n",
    "\n",
    "acc_test = accuracy_score(test_out, pred_test)\n",
    "acc_test_knn = accuracy_score(test_out, pred_test_knn)\n",
    "# acc_test_D = accuracy_score(test_out, pred_test_D)\n",
    "print(\"Accuracy test\", \"single layer perceptron\",acc_test, \"knn\",acc_test_knn)"
   ]
  }
 ],
 "metadata": {
  "kernelspec": {
   "display_name": "Python 3.9.2 64-bit",
   "language": "python",
   "name": "python3"
  },
  "language_info": {
   "codemirror_mode": {
    "name": "ipython",
    "version": 3
   },
   "file_extension": ".py",
   "mimetype": "text/x-python",
   "name": "python",
   "nbconvert_exporter": "python",
   "pygments_lexer": "ipython3",
   "version": "3.9.2"
  },
  "orig_nbformat": 4,
  "vscode": {
   "interpreter": {
    "hash": "0bd48ae0881e24b9eb52916598f12b5ce0c2fdafddee5692d5ab0d603e0369db"
   }
  }
 },
 "nbformat": 4,
 "nbformat_minor": 2
}
