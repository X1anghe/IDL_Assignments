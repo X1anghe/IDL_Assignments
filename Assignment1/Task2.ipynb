{
 "cells": [
  {
   "cell_type": "code",
   "execution_count": 149,
   "metadata": {},
   "outputs": [],
   "source": [
    "import math\n",
    "import numpy as np\n",
    "import pandas as pd\n",
    "from sklearn.model_selection import train_test_split\n",
    "from matplotlib import pyplot as plt\n",
    "from sklearn.metrics import confusion_matrix, accuracy_score\n",
    "from sklearn.model_selection import KFold\n"
   ]
  },
  {
   "cell_type": "code",
   "execution_count": 150,
   "metadata": {},
   "outputs": [],
   "source": [
    "train_in = np.loadtxt('./Datasets/train_in.csv', \n",
    "                  delimiter=',',  \n",
    "                  skiprows=0,      \n",
    "                  dtype=float)       \n",
    "test_in = np.loadtxt('./Datasets/test_in.csv', \n",
    "                  delimiter=',',   \n",
    "                  skiprows=0,      \n",
    "                  dtype=float)       \n",
    "train_out = np.loadtxt('./Datasets/train_out.csv', \n",
    "                  delimiter=',',  \n",
    "                  skiprows=0,      \n",
    "                  dtype=float)       \n",
    "test_out = np.loadtxt('./Datasets/test_out.csv', \n",
    "                  delimiter=',',   \n",
    "                  skiprows=0,      \n",
    "                  dtype=float)       "
   ]
  },
  {
   "cell_type": "code",
   "execution_count": 151,
   "metadata": {},
   "outputs": [
    {
     "name": "stdout",
     "output_type": "stream",
     "text": [
      "(1365, 256) (342, 256) (1365,) (342,)\n"
     ]
    }
   ],
   "source": [
    "X_train, X_val, y_train, y_val = train_test_split(train_in, train_out, train_size=0.8, random_state=0)\n",
    "X_test = test_in\n",
    "y_test = test_out\n",
    "print(X_train.shape, X_val.shape, y_train.shape, y_val.shape)"
   ]
  },
  {
   "cell_type": "code",
   "execution_count": 152,
   "metadata": {},
   "outputs": [],
   "source": [
    "# input dataset\n",
    "def preprocessing(datasets):\n",
    "    return np.hstack((datasets, np.ones(len(datasets)).reshape(len(datasets),1)))"
   ]
  },
  {
   "cell_type": "code",
   "execution_count": 153,
   "metadata": {},
   "outputs": [],
   "source": [
    "def get_dummies(list, array):\n",
    "    for i, each in zip(list, array):\n",
    "        each[int(i)] = 1\n",
    "    return array"
   ]
  },
  {
   "cell_type": "code",
   "execution_count": 154,
   "metadata": {},
   "outputs": [],
   "source": [
    "# sigmoid function \n",
    "def sig(x):\n",
    "    return (1/(1+np.exp(-x)))\n",
    "\n",
    "def sig_prime(x):\n",
    "    return (x * (1 - x))"
   ]
  },
  {
   "cell_type": "code",
   "execution_count": 155,
   "metadata": {},
   "outputs": [],
   "source": [
    "Len_train = len(X_train)\n",
    "Len_val = len(X_val)\n",
    "Len_test = len(X_test)\n",
    "\n",
    "X_train = preprocessing(X_train)\n",
    "X_val = preprocessing(X_val)\n",
    "X_test = preprocessing(X_test)\n",
    "\n",
    "y_train_dummy = np.zeros(Len_train*10).reshape(Len_train, 10)\n",
    "y_train_dummy = get_dummies(y_train, y_train_dummy)\n",
    "y_val_dummy = np.zeros(Len_val*10).reshape(Len_val, 10)\n",
    "y_val_dummy = get_dummies(y_val, y_val_dummy)\n",
    "y_test_dummy = np.zeros(Len_test*10).reshape(Len_test, 10)\n",
    "y_test_dummy = get_dummies(y_test, y_test_dummy)"
   ]
  },
  {
   "cell_type": "code",
   "execution_count": 156,
   "metadata": {},
   "outputs": [],
   "source": [
    "kf = KFold(n_splits=5)\n",
    "\n",
    "kfold_index_list = []\n",
    "\n",
    "for cv_index_train, cv_index_test in kf.split(X_train):\n",
    "    kfold_index_list.append((cv_index_train, cv_index_test))"
   ]
  },
  {
   "cell_type": "code",
   "execution_count": 157,
   "metadata": {},
   "outputs": [],
   "source": [
    "def training(lr, w, x, y_dummy):\n",
    "    for iter in range(1000):\n",
    "        for i in range(len(x)):\n",
    "            y_hat = sig(np.dot(x[i], w))\n",
    "            diff = y_dummy[i] - y_hat\n",
    "            x_re = x[i].reshape(257,1)\n",
    "            # print(diff)\n",
    "            sp = sig_prime(y_hat) * diff\n",
    "            w += lr * x_re * sp\n",
    "\n",
    "        if iter % 10 == 0 :\n",
    "            arg_y_hat = np.argmax(sig(np.dot(x, w)), axis=1)\n",
    "            arg_y_dummy = np.argmax(y_dummy, axis=1)\n",
    "            arg_diff = abs(arg_y_dummy - arg_y_hat)\n",
    "            acc = (len(y_dummy)-np.sum(arg_diff>0))/len(y_dummy)\n",
    "            print(acc)\n",
    "        if acc>0.97:\n",
    "            break\n",
    "    return w"
   ]
  },
  {
   "cell_type": "code",
   "execution_count": 158,
   "metadata": {},
   "outputs": [
    {
     "name": "stdout",
     "output_type": "stream",
     "text": [
      "0.8534798534798534\n",
      "0.9626373626373627\n",
      "0.9663003663003663\n",
      "0.9684981684981685\n",
      "0.96996336996337\n",
      "0.9706959706959707\n"
     ]
    }
   ],
   "source": [
    "np.random.seed(2022)\n",
    "w0 = np.zeros(257*10).reshape(257,10)\n",
    "lr = 0.3\n",
    "w = training(lr, w0, X_train, y_train_dummy)"
   ]
  },
  {
   "cell_type": "code",
   "execution_count": 159,
   "metadata": {},
   "outputs": [],
   "source": [
    "# def training(lr, w, train_x, y_train_dummy):\n",
    "#     for iter in range(100000):\n",
    "#         y_hat = sig(np.dot(train_x, w))\n",
    "#         # e = pow((y_train_dummy - y) * (y_train_dummy - y), 0.5)\n",
    "#         diff = y_train_dummy - y_hat\n",
    "#         # if iter % 100 == 0 :\n",
    "#         #    print(sum(sum(abs(e))))\n",
    "#         if sum(sum(abs(diff))) <= 1e-04:\n",
    "#             # print(iter)\n",
    "#             break\n",
    "#         # updata w0(weight)\n",
    "#         # print(w0.shape, train_x.shape, e.shape)\n",
    "#         # print((1-w0) * w0)\n",
    "#         # w0 += lr * np.dot(train_x.T, e) * ((1-w0) * w0)\n",
    "#         w += lr * np.dot(train_x.T, diff)\n",
    "#         # print(sum(sum(((1-w0) * w0))))\n",
    "#     return w"
   ]
  },
  {
   "cell_type": "code",
   "execution_count": 160,
   "metadata": {},
   "outputs": [],
   "source": [
    "def predict(lr, w, train_x, y_train_dummy):\n",
    "    y_hat = sig(np.dot(train_x, w))\n",
    "    return np.argmax(y_hat, axis=1)"
   ]
  },
  {
   "cell_type": "code",
   "execution_count": 161,
   "metadata": {},
   "outputs": [
    {
     "name": "stdout",
     "output_type": "stream",
     "text": [
      "0.7371794871794872\n",
      "0.9578754578754579\n",
      "0.9642857142857143\n",
      "0.967032967032967\n",
      "0.967032967032967\n",
      "0.9688644688644689\n",
      "0.9706959706959707\n",
      "0.967948717948718\n",
      "0.9706959706959707\n",
      "0.967032967032967\n",
      "0.9688644688644689\n",
      "0.9706959706959707\n",
      "0.967948717948718\n",
      "0.967948717948718\n",
      "0.9688644688644689\n",
      "0.9688644688644689\n",
      "0.9688644688644689\n",
      "0.9697802197802198\n",
      "0.9697802197802198\n",
      "0.9697802197802198\n",
      "0.9697802197802198\n",
      "0.9716117216117216\n",
      "0.9706959706959707\n"
     ]
    }
   ],
   "source": [
    "np.random.seed(2022)\n",
    "w0 = np.random.uniform(-0.3,0.3,size=(257,10))\n",
    "\n",
    "lr = 0.3\n",
    "# w = train(lr, w0, train_x, y_train_dummy)\n",
    "results = []\n",
    "w_list = []\n",
    "\n",
    "for i in range(5):\n",
    "    w = training(lr, w0, X_train[kfold_index_list[i][0]], y_train_dummy[kfold_index_list[i][0]])\n",
    "\n",
    "    pred_train = predict(lr, w, X_train[kfold_index_list[i][1]], y_train_dummy[kfold_index_list[i][1]])\n",
    "    acc_train = accuracy_score(y_train[kfold_index_list[i][1]], pred_train)\n",
    "\n",
    "    pred_val = predict(lr, w, X_val, y_val_dummy)\n",
    "    acc_val = accuracy_score(y_val, pred_val)\n",
    "\n",
    "    pred_test = predict(lr, w, X_test, y_test_dummy)\n",
    "    acc_test = accuracy_score(y_test, pred_test)\n",
    "\n",
    "    w_list.append(w)\n",
    "    results.append((acc_train, acc_val, acc_test))\n"
   ]
  },
  {
   "cell_type": "code",
   "execution_count": 162,
   "metadata": {},
   "outputs": [
    {
     "name": "stdout",
     "output_type": "stream",
     "text": [
      "Accuracy train:  0.9413919413919414 Accuracy validation 0.9502923976608187 Accuracy test 0.872\n",
      "Accuracy train:  0.9560439560439561 Accuracy validation 0.9473684210526315 Accuracy test 0.882\n",
      "Accuracy train:  0.9706959706959707 Accuracy validation 0.956140350877193 Accuracy test 0.883\n",
      "Accuracy train:  0.9816849816849816 Accuracy validation 0.9473684210526315 Accuracy test 0.881\n",
      "Accuracy train:  0.9816849816849816 Accuracy validation 0.9502923976608187 Accuracy test 0.879\n"
     ]
    }
   ],
   "source": [
    "for acc, acc_val, acc_test in results:\n",
    "    print(\"Accuracy train: \", acc, \"Accuracy validation\", acc_val, \"Accuracy test\", acc_test)"
   ]
  },
  {
   "cell_type": "code",
   "execution_count": 163,
   "metadata": {},
   "outputs": [
    {
     "data": {
      "text/plain": [
       "array([[211,   0,   0,   2,   1,   3,   2,   0,   3,   0],\n",
       "       [  0, 114,   0,   0,   1,   0,   0,   0,   0,   1],\n",
       "       [  4,   1,  83,   4,   1,   0,   0,   1,   1,   0],\n",
       "       [  2,   0,   2,  65,   0,   9,   1,   1,   4,   0],\n",
       "       [  3,   2,   4,   0,  73,   1,   1,   3,   1,   3],\n",
       "       [  0,   0,   0,   1,   2,  37,   0,   0,   2,   1],\n",
       "       [  2,   2,   2,   0,   2,   1,  85,   0,   0,   0],\n",
       "       [  0,   1,   1,   1,   4,   2,   0,  56,   3,   4],\n",
       "       [  1,   0,   9,   5,   0,   0,   1,   0,  78,   2],\n",
       "       [  1,   1,   0,   1,   2,   2,   0,   3,   0,  77]])"
      ]
     },
     "execution_count": 163,
     "metadata": {},
     "output_type": "execute_result"
    }
   ],
   "source": [
    "## confusion Test\n",
    "confusion_matrix(predict(lr, w_list[1], X_test, y_test_dummy), y_test)"
   ]
  },
  {
   "cell_type": "code",
   "execution_count": 164,
   "metadata": {},
   "outputs": [],
   "source": [
    "# w0 = np.random.random((257,10))\n",
    "# lr = 0.3\n",
    "# w = training(lr, w0, X_train, y_train_dummy)"
   ]
  }
 ],
 "metadata": {
  "kernelspec": {
   "display_name": "Python 3.9.6 64-bit",
   "language": "python",
   "name": "python3"
  },
  "language_info": {
   "codemirror_mode": {
    "name": "ipython",
    "version": 3
   },
   "file_extension": ".py",
   "mimetype": "text/x-python",
   "name": "python",
   "nbconvert_exporter": "python",
   "pygments_lexer": "ipython3",
   "version": "3.9.6"
  },
  "orig_nbformat": 4,
  "vscode": {
   "interpreter": {
    "hash": "31f2aee4e71d21fbe5cf8b01ff0e069b9275f58929596ceb00d14d90e3e16cd6"
   }
  }
 },
 "nbformat": 4,
 "nbformat_minor": 2
}
