{
 "cells": [
  {
   "cell_type": "code",
   "execution_count": 103,
   "metadata": {},
   "outputs": [],
   "source": [
    "import math\n",
    "import numpy as np\n",
    "import pandas as pd\n",
    "from sklearn.model_selection import train_test_split\n",
    "from matplotlib import pyplot as plt\n",
    "from sklearn.metrics import confusion_matrix, accuracy_score\n",
    "from sklearn.model_selection import KFold\n"
   ]
  },
  {
   "cell_type": "code",
   "execution_count": 138,
   "metadata": {},
   "outputs": [],
   "source": [
    "train_in = np.loadtxt('./Datasets/train_in.csv', \n",
    "                  delimiter=',',  \n",
    "                  skiprows=0,      \n",
    "                  dtype=float)       \n",
    "test_in = np.loadtxt('./Datasets/test_in.csv', \n",
    "                  delimiter=',',   \n",
    "                  skiprows=0,      \n",
    "                  dtype=float)       \n",
    "train_out = np.loadtxt('./Datasets/train_out.csv', \n",
    "                  delimiter=',',  \n",
    "                  skiprows=0,      \n",
    "                  dtype=float)       \n",
    "test_out = np.loadtxt('./Datasets/test_out.csv', \n",
    "                  delimiter=',',   \n",
    "                  skiprows=0,      \n",
    "                  dtype=float)       "
   ]
  },
  {
   "cell_type": "code",
   "execution_count": 139,
   "metadata": {},
   "outputs": [
    {
     "name": "stdout",
     "output_type": "stream",
     "text": [
      "(1365, 256) (342, 256) (1365,) (342,)\n"
     ]
    }
   ],
   "source": [
    "X_train, X_val, y_train, y_val = train_test_split(train_in, train_out, train_size=0.8, random_state=0)\n",
    "X_test = test_in\n",
    "y_test = test_out\n",
    "print(X_train.shape, X_val.shape, y_train.shape, y_val.shape)"
   ]
  },
  {
   "cell_type": "code",
   "execution_count": 140,
   "metadata": {},
   "outputs": [],
   "source": [
    "# input dataset\n",
    "def preprocessing(datasets):\n",
    "    return np.hstack((datasets, np.ones(len(datasets)).reshape(len(datasets),1)))"
   ]
  },
  {
   "cell_type": "code",
   "execution_count": 141,
   "metadata": {},
   "outputs": [],
   "source": [
    "def get_dummies(list, array):\n",
    "    for i, each in zip(list, array):\n",
    "        each[int(i)] = 1\n",
    "    return array"
   ]
  },
  {
   "cell_type": "code",
   "execution_count": 167,
   "metadata": {},
   "outputs": [],
   "source": [
    "# sigmoid function \n",
    "def sig(x):\n",
    "    return (1/(1+np.exp(-x)))\n",
    "\n",
    "def deridig(y):\n",
    "    return y*(1-y)"
   ]
  },
  {
   "cell_type": "code",
   "execution_count": 143,
   "metadata": {},
   "outputs": [],
   "source": [
    "Len_train = len(X_train)\n",
    "Len_val = len(X_val)\n",
    "Len_test = len(X_test)\n",
    "\n",
    "X_train = preprocessing(X_train)\n",
    "X_val = preprocessing(X_val)\n",
    "X_test = preprocessing(X_test)\n",
    "\n",
    "y_train_dummy = np.zeros(Len_train*10).reshape(Len_train, 10)\n",
    "y_train_dummy = get_dummies(y_train, y_train_dummy)\n",
    "y_val_dummy = np.zeros(Len_val*10).reshape(Len_val, 10)\n",
    "y_val_dummy = get_dummies(y_val, y_val_dummy)\n",
    "y_test_dummy = np.zeros(Len_test*10).reshape(Len_test, 10)\n",
    "y_test_dummy = get_dummies(y_test, y_test_dummy)"
   ]
  },
  {
   "cell_type": "code",
   "execution_count": 144,
   "metadata": {},
   "outputs": [],
   "source": [
    "kf = KFold(n_splits=5)\n",
    "\n",
    "kfold_index_list = []\n",
    "\n",
    "for cv_index_train, cv_index_test in kf.split(X_train):\n",
    "    kfold_index_list.append((cv_index_train, cv_index_test))"
   ]
  },
  {
   "cell_type": "code",
   "execution_count": 153,
   "metadata": {},
   "outputs": [],
   "source": [
    "def training(lr, w, train_x, y_train_dummy):\n",
    "    for iter in range(100000):\n",
    "        y_hat = sig(np.dot(train_x, w))\n",
    "        # e = pow((y_train_dummy - y) * (y_train_dummy - y), 0.5)\n",
    "        diff = y_train_dummy - y_hat\n",
    "        # if iter % 100 == 0 :\n",
    "        #    print(sum(sum(abs(e))))\n",
    "        if sum(sum(abs(diff))) <= 1e-04:\n",
    "            # print(iter)\n",
    "            break\n",
    "        # updata w0(weight)\n",
    "        # print(w0.shape, train_x.shape, e.shape)\n",
    "        # print((1-w0) * w0)\n",
    "        # w0 += lr * np.dot(train_x.T, e) * ((1-w0) * w0)\n",
    "        w += lr * np.dot(train_x.T, diff)\n",
    "        # print(sum(sum(((1-w0) * w0))))\n",
    "    return w"
   ]
  },
  {
   "cell_type": "code",
   "execution_count": 146,
   "metadata": {},
   "outputs": [],
   "source": [
    "def predict(lr, w, train_x, y_train_dummy):\n",
    "    y_hat = sig(np.dot(train_x, w))\n",
    "    return np.argmax(y_hat, axis=1)"
   ]
  },
  {
   "cell_type": "code",
   "execution_count": 163,
   "metadata": {},
   "outputs": [
    {
     "name": "stderr",
     "output_type": "stream",
     "text": [
      "<ipython-input-158-62129ee6f76d>:3: RuntimeWarning: overflow encountered in exp\n",
      "  return (1/(1+np.exp(-x)))\n",
      "<ipython-input-158-62129ee6f76d>:3: RuntimeWarning: overflow encountered in exp\n",
      "  return (1/(1+np.exp(-x)))\n",
      "<ipython-input-158-62129ee6f76d>:3: RuntimeWarning: overflow encountered in exp\n",
      "  return (1/(1+np.exp(-x)))\n",
      "<ipython-input-158-62129ee6f76d>:3: RuntimeWarning: overflow encountered in exp\n",
      "  return (1/(1+np.exp(-x)))\n",
      "<ipython-input-158-62129ee6f76d>:3: RuntimeWarning: overflow encountered in exp\n",
      "  return (1/(1+np.exp(-x)))\n",
      "<ipython-input-158-62129ee6f76d>:3: RuntimeWarning: overflow encountered in exp\n",
      "  return (1/(1+np.exp(-x)))\n",
      "<ipython-input-158-62129ee6f76d>:3: RuntimeWarning: overflow encountered in exp\n",
      "  return (1/(1+np.exp(-x)))\n",
      "<ipython-input-158-62129ee6f76d>:3: RuntimeWarning: overflow encountered in exp\n",
      "  return (1/(1+np.exp(-x)))\n",
      "<ipython-input-158-62129ee6f76d>:3: RuntimeWarning: overflow encountered in exp\n",
      "  return (1/(1+np.exp(-x)))\n",
      "<ipython-input-158-62129ee6f76d>:3: RuntimeWarning: overflow encountered in exp\n",
      "  return (1/(1+np.exp(-x)))\n",
      "<ipython-input-158-62129ee6f76d>:3: RuntimeWarning: overflow encountered in exp\n",
      "  return (1/(1+np.exp(-x)))\n",
      "<ipython-input-158-62129ee6f76d>:3: RuntimeWarning: overflow encountered in exp\n",
      "  return (1/(1+np.exp(-x)))\n",
      "<ipython-input-158-62129ee6f76d>:3: RuntimeWarning: overflow encountered in exp\n",
      "  return (1/(1+np.exp(-x)))\n",
      "<ipython-input-158-62129ee6f76d>:3: RuntimeWarning: overflow encountered in exp\n",
      "  return (1/(1+np.exp(-x)))\n",
      "<ipython-input-158-62129ee6f76d>:3: RuntimeWarning: overflow encountered in exp\n",
      "  return (1/(1+np.exp(-x)))\n"
     ]
    }
   ],
   "source": [
    "np.random.seed(2022)\n",
    "w0 = np.random.random((257,10))\n",
    "lr = 0.3\n",
    "# w = train(lr, w0, train_x, y_train_dummy)\n",
    "results = []\n",
    "w_list = []\n",
    "\n",
    "for i in range(5):\n",
    "    w = training(lr, w0, X_train[kfold_index_list[i][0]], y_train_dummy[kfold_index_list[i][0]])\n",
    "\n",
    "    pred_train = predict(lr, w, X_train[kfold_index_list[i][1]], y_train_dummy[kfold_index_list[i][1]])\n",
    "    acc_train = accuracy_score(y_train[kfold_index_list[i][1]], pred_train)\n",
    "\n",
    "    pred_val = predict(lr, w, X_val, y_val_dummy)\n",
    "    acc_val = accuracy_score(y_val, pred_val)\n",
    "\n",
    "    pred_test = predict(lr, w, X_test, y_test_dummy)\n",
    "    acc_test = accuracy_score(y_test, pred_test)\n",
    "\n",
    "    w_list.append(w)\n",
    "    results.append((acc_train, acc_val, acc_test))\n"
   ]
  },
  {
   "cell_type": "code",
   "execution_count": 164,
   "metadata": {},
   "outputs": [
    {
     "name": "stdout",
     "output_type": "stream",
     "text": [
      "Accuracy train:  0.8974358974358975 Accuracy validation 0.9385964912280702 Accuracy test 0.836\n",
      "Accuracy train:  0.9413919413919414 Accuracy validation 0.9415204678362573 Accuracy test 0.855\n",
      "Accuracy train:  0.989010989010989 Accuracy validation 0.9415204678362573 Accuracy test 0.852\n",
      "Accuracy train:  1.0 Accuracy validation 0.9385964912280702 Accuracy test 0.854\n",
      "Accuracy train:  1.0 Accuracy validation 0.9385964912280702 Accuracy test 0.854\n"
     ]
    }
   ],
   "source": [
    "for acc, acc_val, acc_test in results:\n",
    "    print(\"Accuracy train: \", acc, \"Accuracy validation\", acc_val, \"Accuracy test\", acc_test)"
   ]
  },
  {
   "cell_type": "code",
   "execution_count": 166,
   "metadata": {},
   "outputs": [
    {
     "name": "stderr",
     "output_type": "stream",
     "text": [
      "<ipython-input-158-62129ee6f76d>:3: RuntimeWarning: overflow encountered in exp\n",
      "  return (1/(1+np.exp(-x)))\n"
     ]
    },
    {
     "data": {
      "text/plain": [
       "array([[213,   0,   5,   4,   2,   4,   5,   0,   7,   0],\n",
       "       [  0, 117,   1,   0,   1,   0,   0,   1,   0,   1],\n",
       "       [  6,   2,  85,   3,   6,   0,   6,   5,   3,   1],\n",
       "       [  0,   0,   1,  63,   0,   5,   0,   2,   3,   0],\n",
       "       [  3,   1,   2,   0,  68,   1,   2,   3,   2,   5],\n",
       "       [  0,   0,   1,   2,   2,  42,   5,   0,   5,   0],\n",
       "       [  0,   0,   2,   0,   1,   0,  72,   0,   0,   0],\n",
       "       [  0,   1,   1,   1,   4,   1,   0,  51,   1,   5],\n",
       "       [  1,   0,   3,   4,   0,   1,   0,   0,  70,   3],\n",
       "       [  1,   0,   0,   2,   2,   1,   0,   2,   1,  73]], dtype=int64)"
      ]
     },
     "execution_count": 166,
     "metadata": {},
     "output_type": "execute_result"
    }
   ],
   "source": [
    "## confusion Test\n",
    "confusion_matrix(predict(lr, w_list[1], X_test, y_test_dummy), y_test)"
   ]
  },
  {
   "cell_type": "code",
   "execution_count": 152,
   "metadata": {},
   "outputs": [],
   "source": [
    "# w0 = np.random.random((257,10))\n",
    "# lr = 0.3\n",
    "# w = training(lr, w0, X_train, y_train_dummy)"
   ]
  }
 ],
 "metadata": {
  "kernelspec": {
   "display_name": "Python 3.9.2 64-bit",
   "language": "python",
   "name": "python3"
  },
  "language_info": {
   "codemirror_mode": {
    "name": "ipython",
    "version": 3
   },
   "file_extension": ".py",
   "mimetype": "text/x-python",
   "name": "python",
   "nbconvert_exporter": "python",
   "pygments_lexer": "ipython3",
   "version": "3.9.2"
  },
  "orig_nbformat": 4,
  "vscode": {
   "interpreter": {
    "hash": "0bd48ae0881e24b9eb52916598f12b5ce0c2fdafddee5692d5ab0d603e0369db"
   }
  }
 },
 "nbformat": 4,
 "nbformat_minor": 2
}
