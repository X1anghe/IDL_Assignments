{
 "cells": [
  {
   "cell_type": "code",
   "execution_count": 1,
   "metadata": {},
   "outputs": [],
   "source": [
    "import math\n",
    "import numpy as np\n",
    "import pandas as pd\n",
    "from matplotlib import pyplot as plt\n",
    "from sklearn.metrics import confusion_matrix\n",
    "from sklearn.metrics import accuracy_score\n",
    "from sklearn.neighbors import KNeighborsClassifier as knn\n",
    "from sklearn.model_selection import train_test_split\n",
    "from sklearn.model_selection import KFold\n",
    "from sklearn.model_selection import cross_validate\n",
    "import random"
   ]
  },
  {
   "cell_type": "code",
   "execution_count": 2,
   "metadata": {},
   "outputs": [],
   "source": [
    "xor_dict={(0,0):0,\n",
    "          (0,1):1,\n",
    "          (1,0):1,\n",
    "          (1,1):0}\n",
    "df=pd.DataFrame({0:[(0,0),(0,1),(1,0),(1,1)],\n",
    "   1:[0,1,1,0]})\n",
    "df_2=df.sample(n=100000,replace=True,random_state=2022).reset_index(drop=True)"
   ]
  },
  {
   "cell_type": "code",
   "execution_count": 238,
   "metadata": {},
   "outputs": [
    {
     "data": {
      "text/plain": [
       "(1, 1)"
      ]
     },
     "execution_count": 238,
     "metadata": {},
     "output_type": "execute_result"
    }
   ],
   "source": [
    "df_2[0][1]"
   ]
  },
  {
   "cell_type": "code",
   "execution_count": 3,
   "metadata": {},
   "outputs": [],
   "source": [
    "# sigmoid & sigmoid prime\n",
    "def sig(x):\n",
    "    return (1/(1+np.exp(-x)))\n",
    "\n",
    "def sig_prime(x):\n",
    "    return (x * (1 - x))"
   ]
  },
  {
   "cell_type": "code",
   "execution_count": 4,
   "metadata": {},
   "outputs": [],
   "source": [
    "# # error function\n",
    "# def mse(weights,df=xor_dict):\n",
    "#   # output will be a (3,1) np.array\n",
    "#   # last one is mse of pred_y, others are mse of hidden layer\n",
    "#   output=0\n",
    "#   w=weights.reshape(3,3)\n",
    "#   for k,v in df.items():\n",
    "#     x=np.array(list((1,k[0],k[1])))\n",
    "#     hl=np.array((1,sig(np.inner(w[0],x)),sig(np.inner(w[1],x)))) # hidden layer\n",
    "#     nodes=np.vstack((x,hl))\n",
    "#     # y_hat=sig(np.inner(w[2],hl))\n",
    "#     if sig(np.inner(w[2],hl))>=0.5:\n",
    "#       output += (v-1)**2\n",
    "#     else:\n",
    "#       output += (v-0)**2\n",
    "#   # print(output)\n",
    "#   return(output/4)"
   ]
  },
  {
   "cell_type": "code",
   "execution_count": 112,
   "metadata": {},
   "outputs": [],
   "source": [
    "def grdmse(w, nodes, y_hat, diff, lr): \n",
    "  dlt=np.zeros(shape=(3,3)) \n",
    "  sp_y=sig_prime(y_hat)\n",
    "  sp_s1,sp_s2=sig_prime(nodes[1,1:3]) \n",
    "  dlt[2]=diff*sp_y*nodes[1]\n",
    "  dlt[1]=diff*sp_y*w[2,2]*sp_s2*nodes[0]\n",
    "  dlt[0]=diff*sp_y*w[2,1]*sp_s1*nodes[0]\n",
    "  w += -lr*dlt\n",
    "  return(w)"
   ]
  },
  {
   "cell_type": "code",
   "execution_count": 118,
   "metadata": {},
   "outputs": [],
   "source": [
    "def forward(nodes, weights):\n",
    "    nodes[1][1] = sig(nodes[0].dot(weights[0].T))\n",
    "    nodes[1][2] = sig(nodes[0].dot(weights[1].T))\n",
    "    output = sig(nodes[1].dot(weights[2].T))\n",
    "    return nodes, output"
   ]
  },
  {
   "cell_type": "code",
   "execution_count": 133,
   "metadata": {},
   "outputs": [],
   "source": [
    "def train(nodes, target, weights):\n",
    "    nodes, output = forward(nodes, weights)\n",
    "    error = output - target\n",
    "    return grdmse(weights, nodes, output, error, 0.3)"
   ]
  },
  {
   "cell_type": "code",
   "execution_count": 139,
   "metadata": {},
   "outputs": [],
   "source": [
    "def mse_1(weights):\n",
    "    re = 0\n",
    "    nodes = np.ones(6).reshape(2,3)\n",
    "    for k in xor_dict.keys():\n",
    "        nodes[0] = np.insert(k, 0 , 1, axis = 0)\n",
    "        n, output = forward(nodes, weights)\n",
    "        re += abs(xor_dict[k] - output)\n",
    "    return re/4"
   ]
  },
  {
   "cell_type": "code",
   "execution_count": 28,
   "metadata": {},
   "outputs": [],
   "source": [
    "INPUTS = [\n",
    "        [0,0],\n",
    "        [0,1],\n",
    "        [1,0],\n",
    "        [1,1]\n",
    "    ]\n",
    "\n",
    "OUTPUTS = [\n",
    "        [0],\n",
    "        [1],\n",
    "        [1],\n",
    "        [0]\n",
    "    ]"
   ]
  },
  {
   "cell_type": "code",
   "execution_count": 160,
   "metadata": {},
   "outputs": [
    {
     "name": "stdout",
     "output_type": "stream",
     "text": [
      "epoch 1000 mean squared error: 0.24951779053021955\n",
      "epoch 2000 mean squared error: 0.17644670679225186\n",
      "epoch 3000 mean squared error: 0.01238693108342294\n",
      "epoch 4000 mean squared error: 0.0038560282339353685\n",
      "epoch 5000 mean squared error: 0.0021779523165206434\n",
      "epoch 6000 mean squared error: 0.0014960308458517135\n",
      "epoch 7000 mean squared error: 0.001131904242654962\n",
      "epoch 8000 mean squared error: 0.000907047917773129\n",
      "epoch 9000 mean squared error: 0.0007550215751310009\n",
      "epoch 10000 mean squared error: 0.0006456631489909071\n",
      "for input [0, 0] expected 0 predicted 0.02258 which is correct\n",
      "for input [0, 1] expected 1 predicted 0.9758 which is correct\n",
      "for input [1, 0] expected 1 predicted 0.9758 which is correct\n",
      "for input [1, 1] expected 0 predicted 0.03008 which is correct\n"
     ]
    }
   ],
   "source": [
    "nodes = np.ones(6).reshape(2,3)\n",
    "weights = np.random.uniform(-0.5,0.5,size=(3,3))\n",
    "for epoch in range(1,10001):\n",
    "    indexes = [0,1,2,3]\n",
    "    random.shuffle(indexes)\n",
    "\n",
    "    for j in indexes:\n",
    "        nodes[0] = [1, INPUTS[j][0], INPUTS[j][1]]\n",
    "        weights = train(nodes, OUTPUTS[j][0], weights)\n",
    "    \n",
    "    if epoch%1000 == 0:\n",
    "        cost = 0\n",
    "        for j in range(4):\n",
    "            nodes[0] = [1, INPUTS[j][0], INPUTS[j][1]]\n",
    "            n, o = forward(nodes, weights)\n",
    "            cost += (OUTPUTS[j][0] - o) ** 2\n",
    "        cost /= 4\n",
    "        print(\"epoch\", epoch, \"mean squared error:\", cost)       \n",
    "        # print('\\n',weights)\n",
    "\n",
    "for i in range(4):\n",
    "    nodes[0] = [1, INPUTS[i][0],INPUTS[i][1]]\n",
    "    n, result = forward(nodes, weights)\n",
    "    print(\"for input\", INPUTS[i], \"expected\", OUTPUTS[i][0], \"predicted\", f\"{result:4.4}\", \"which is\", \"correct\" if round(result)==OUTPUTS[i][0] else \"incorrect\")"
   ]
  },
  {
   "cell_type": "code",
   "execution_count": 111,
   "metadata": {},
   "outputs": [
    {
     "data": {
      "text/plain": [
       "0.02813689927374971"
      ]
     },
     "execution_count": 111,
     "metadata": {},
     "output_type": "execute_result"
    }
   ],
   "source": [
    "mse(weights)"
   ]
  },
  {
   "cell_type": "code",
   "execution_count": 148,
   "metadata": {},
   "outputs": [
    {
     "name": "stdout",
     "output_type": "stream",
     "text": [
      "[[ 0.30200605 -0.16110675 -0.08595288]\n",
      " [ 0.2884714   0.8204488   0.45662969]\n",
      " [ 0.30074322 -0.19190217  0.94155538]]\n",
      "ITER:  7617\n"
     ]
    }
   ],
   "source": [
    "or_weights = np.random.uniform(-1,1,size=(3,3))\n",
    "# or_weights = np.array([-0.70790987, 1.31670139, 1.35362421, -0.70790987, 1.21, 2.35362421, 0.58713112, 1.23913159, -0.83913159]).reshape(3,3)\n",
    "# e_list = []\n",
    "print(or_weights)\n",
    "weights = or_weights\n",
    "nodes = np.ones(6).reshape(2,3)\n",
    "for i in range(len(df_2)):\n",
    "    nodes[0] = np.insert(df_2[0][i], 0 , 1, axis = 0)\n",
    "    weights = train(nodes, df_2[1][i], weights)\n",
    "\n",
    "    if mse_1(weights) <= 0.1 :\n",
    "        print('ITER: ', i)\n",
    "        break\n",
    "    # e_list.append(output)\n",
    "    # e_list.append(df_2[1][i])\n"
   ]
  },
  {
   "cell_type": "code",
   "execution_count": 149,
   "metadata": {},
   "outputs": [
    {
     "data": {
      "text/plain": [
       "array([[-4.79028678,  3.11592442,  3.18339207],\n",
       "       [-2.11206196,  5.46367092,  5.47906304],\n",
       "       [-2.89733718, -6.91164357,  6.45475589]])"
      ]
     },
     "execution_count": 149,
     "metadata": {},
     "output_type": "execute_result"
    }
   ],
   "source": [
    "or_weights"
   ]
  },
  {
   "cell_type": "code",
   "execution_count": 150,
   "metadata": {},
   "outputs": [
    {
     "data": {
      "text/plain": [
       "array([[-4.79028678,  3.11592442,  3.18339207],\n",
       "       [-2.11206196,  5.46367092,  5.47906304],\n",
       "       [-2.89733718, -6.91164357,  6.45475589]])"
      ]
     },
     "execution_count": 150,
     "metadata": {},
     "output_type": "execute_result"
    }
   ],
   "source": [
    "weights"
   ]
  },
  {
   "cell_type": "code",
   "execution_count": 151,
   "metadata": {},
   "outputs": [
    {
     "data": {
      "text/plain": [
       "0.09995296119405496"
      ]
     },
     "execution_count": 151,
     "metadata": {},
     "output_type": "execute_result"
    }
   ],
   "source": [
    "mse_1(weights)"
   ]
  },
  {
   "cell_type": "code",
   "execution_count": 14,
   "metadata": {},
   "outputs": [
    {
     "data": {
      "text/html": [
       "<div>\n",
       "<style scoped>\n",
       "    .dataframe tbody tr th:only-of-type {\n",
       "        vertical-align: middle;\n",
       "    }\n",
       "\n",
       "    .dataframe tbody tr th {\n",
       "        vertical-align: top;\n",
       "    }\n",
       "\n",
       "    .dataframe thead th {\n",
       "        text-align: right;\n",
       "    }\n",
       "</style>\n",
       "<table border=\"1\" class=\"dataframe\">\n",
       "  <thead>\n",
       "    <tr style=\"text-align: right;\">\n",
       "      <th></th>\n",
       "      <th>0</th>\n",
       "      <th>1</th>\n",
       "    </tr>\n",
       "  </thead>\n",
       "  <tbody>\n",
       "    <tr>\n",
       "      <th>99980</th>\n",
       "      <td>(0, 1)</td>\n",
       "      <td>1</td>\n",
       "    </tr>\n",
       "    <tr>\n",
       "      <th>99981</th>\n",
       "      <td>(0, 0)</td>\n",
       "      <td>0</td>\n",
       "    </tr>\n",
       "    <tr>\n",
       "      <th>99982</th>\n",
       "      <td>(0, 0)</td>\n",
       "      <td>0</td>\n",
       "    </tr>\n",
       "    <tr>\n",
       "      <th>99983</th>\n",
       "      <td>(0, 0)</td>\n",
       "      <td>0</td>\n",
       "    </tr>\n",
       "    <tr>\n",
       "      <th>99984</th>\n",
       "      <td>(1, 0)</td>\n",
       "      <td>1</td>\n",
       "    </tr>\n",
       "    <tr>\n",
       "      <th>99985</th>\n",
       "      <td>(1, 1)</td>\n",
       "      <td>0</td>\n",
       "    </tr>\n",
       "    <tr>\n",
       "      <th>99986</th>\n",
       "      <td>(0, 1)</td>\n",
       "      <td>1</td>\n",
       "    </tr>\n",
       "    <tr>\n",
       "      <th>99987</th>\n",
       "      <td>(1, 1)</td>\n",
       "      <td>0</td>\n",
       "    </tr>\n",
       "    <tr>\n",
       "      <th>99988</th>\n",
       "      <td>(1, 0)</td>\n",
       "      <td>1</td>\n",
       "    </tr>\n",
       "    <tr>\n",
       "      <th>99989</th>\n",
       "      <td>(0, 1)</td>\n",
       "      <td>1</td>\n",
       "    </tr>\n",
       "    <tr>\n",
       "      <th>99990</th>\n",
       "      <td>(0, 1)</td>\n",
       "      <td>1</td>\n",
       "    </tr>\n",
       "    <tr>\n",
       "      <th>99991</th>\n",
       "      <td>(1, 0)</td>\n",
       "      <td>1</td>\n",
       "    </tr>\n",
       "    <tr>\n",
       "      <th>99992</th>\n",
       "      <td>(0, 0)</td>\n",
       "      <td>0</td>\n",
       "    </tr>\n",
       "    <tr>\n",
       "      <th>99993</th>\n",
       "      <td>(1, 1)</td>\n",
       "      <td>0</td>\n",
       "    </tr>\n",
       "    <tr>\n",
       "      <th>99994</th>\n",
       "      <td>(1, 1)</td>\n",
       "      <td>0</td>\n",
       "    </tr>\n",
       "    <tr>\n",
       "      <th>99995</th>\n",
       "      <td>(0, 0)</td>\n",
       "      <td>0</td>\n",
       "    </tr>\n",
       "    <tr>\n",
       "      <th>99996</th>\n",
       "      <td>(1, 1)</td>\n",
       "      <td>0</td>\n",
       "    </tr>\n",
       "    <tr>\n",
       "      <th>99997</th>\n",
       "      <td>(0, 1)</td>\n",
       "      <td>1</td>\n",
       "    </tr>\n",
       "    <tr>\n",
       "      <th>99998</th>\n",
       "      <td>(1, 1)</td>\n",
       "      <td>0</td>\n",
       "    </tr>\n",
       "    <tr>\n",
       "      <th>99999</th>\n",
       "      <td>(0, 1)</td>\n",
       "      <td>1</td>\n",
       "    </tr>\n",
       "  </tbody>\n",
       "</table>\n",
       "</div>"
      ],
      "text/plain": [
       "            0  1\n",
       "99980  (0, 1)  1\n",
       "99981  (0, 0)  0\n",
       "99982  (0, 0)  0\n",
       "99983  (0, 0)  0\n",
       "99984  (1, 0)  1\n",
       "99985  (1, 1)  0\n",
       "99986  (0, 1)  1\n",
       "99987  (1, 1)  0\n",
       "99988  (1, 0)  1\n",
       "99989  (0, 1)  1\n",
       "99990  (0, 1)  1\n",
       "99991  (1, 0)  1\n",
       "99992  (0, 0)  0\n",
       "99993  (1, 1)  0\n",
       "99994  (1, 1)  0\n",
       "99995  (0, 0)  0\n",
       "99996  (1, 1)  0\n",
       "99997  (0, 1)  1\n",
       "99998  (1, 1)  0\n",
       "99999  (0, 1)  1"
      ]
     },
     "execution_count": 14,
     "metadata": {},
     "output_type": "execute_result"
    }
   ],
   "source": [
    "df_2.iloc[-20:,:]"
   ]
  },
  {
   "cell_type": "code",
   "execution_count": 23,
   "metadata": {},
   "outputs": [
    {
     "ename": "NameError",
     "evalue": "name 'e_list' is not defined",
     "output_type": "error",
     "traceback": [
      "\u001b[1;31m---------------------------------------------------------------------------\u001b[0m",
      "\u001b[1;31mNameError\u001b[0m                                 Traceback (most recent call last)",
      "\u001b[1;32m<ipython-input-23-d0da314dd113>\u001b[0m in \u001b[0;36m<module>\u001b[1;34m\u001b[0m\n\u001b[1;32m----> 1\u001b[1;33m \u001b[0me_list\u001b[0m\u001b[1;33m[\u001b[0m\u001b[1;33m-\u001b[0m\u001b[1;36m40\u001b[0m\u001b[1;33m:\u001b[0m\u001b[1;33m]\u001b[0m\u001b[1;33m\u001b[0m\u001b[1;33m\u001b[0m\u001b[0m\n\u001b[0m",
      "\u001b[1;31mNameError\u001b[0m: name 'e_list' is not defined"
     ]
    }
   ],
   "source": [
    "e_list[-40:]"
   ]
  },
  {
   "cell_type": "code",
   "execution_count": 107,
   "metadata": {},
   "outputs": [
    {
     "name": "stdout",
     "output_type": "stream",
     "text": [
      "[[ 1  1  1]\n",
      " [-1 -1 -1]\n",
      " [ 1  1  1]]\n"
     ]
    }
   ],
   "source": [
    "w = np.array([1,1,1,-1,-1,-1,1,1,1]).reshape(3,3)\n",
    "print(w)"
   ]
  },
  {
   "cell_type": "code",
   "execution_count": 77,
   "metadata": {},
   "outputs": [],
   "source": [
    "INPUTS = [\n",
    "        [0,0],\n",
    "        [0,1],\n",
    "        [1,0],\n",
    "        [1,1]\n",
    "    ]\n",
    "\n",
    "OUTPUTS = [\n",
    "        [0],\n",
    "        [1],\n",
    "        [1],\n",
    "        [0]\n",
    "    ]"
   ]
  },
  {
   "cell_type": "code",
   "execution_count": 92,
   "metadata": {},
   "outputs": [
    {
     "name": "stdout",
     "output_type": "stream",
     "text": [
      "[[1.         1.         0.        ]\n",
      " [1.         0.88079708 0.11920292]]\n"
     ]
    }
   ],
   "source": [
    "nodes[0][1], nodes[0][2] = INPUTS[2]\n",
    "print(nodes)"
   ]
  },
  {
   "cell_type": "code",
   "execution_count": 93,
   "metadata": {},
   "outputs": [
    {
     "name": "stdout",
     "output_type": "stream",
     "text": [
      "[[1.         1.         0.        ]\n",
      " [1.         0.88079708 0.11920292]]\n"
     ]
    }
   ],
   "source": [
    "nodes[1][1] = sig(nodes[0].dot(w[0]))\n",
    "nodes[1][2] = sig(nodes[0].dot(w[1]))\n",
    "print(nodes)"
   ]
  },
  {
   "cell_type": "code",
   "execution_count": 94,
   "metadata": {},
   "outputs": [
    {
     "name": "stdout",
     "output_type": "stream",
     "text": [
      "0.8807970779778823\n"
     ]
    }
   ],
   "source": [
    "output = sig(nodes[1].dot(w[2]))\n",
    "print(output)"
   ]
  },
  {
   "cell_type": "code",
   "execution_count": 99,
   "metadata": {},
   "outputs": [
    {
     "name": "stdout",
     "output_type": "stream",
     "text": [
      "[-0.11920292]\n"
     ]
    }
   ],
   "source": [
    "error = output - OUTPUTS[2]\n",
    "print(error)"
   ]
  },
  {
   "cell_type": "code",
   "execution_count": 96,
   "metadata": {},
   "outputs": [
    {
     "data": {
      "text/plain": [
       "array([[ 1,  1,  1],\n",
       "       [-1, -1, -1],\n",
       "       [ 1,  1,  1]])"
      ]
     },
     "execution_count": 96,
     "metadata": {},
     "output_type": "execute_result"
    }
   ],
   "source": [
    "w"
   ]
  },
  {
   "cell_type": "code",
   "execution_count": 103,
   "metadata": {},
   "outputs": [
    {
     "data": {
      "text/plain": [
       "array([[1.        , 1.        , 0.        ],\n",
       "       [1.        , 0.88079708, 0.11920292]])"
      ]
     },
     "execution_count": 103,
     "metadata": {},
     "output_type": "execute_result"
    }
   ],
   "source": [
    "nodes"
   ]
  },
  {
   "cell_type": "code",
   "execution_count": 104,
   "metadata": {},
   "outputs": [
    {
     "data": {
      "text/plain": [
       "array([[ 1,  1,  1],\n",
       "       [-1, -1, -1],\n",
       "       [ 1,  1,  1]])"
      ]
     },
     "execution_count": 104,
     "metadata": {},
     "output_type": "execute_result"
    }
   ],
   "source": [
    "w"
   ]
  },
  {
   "cell_type": "code",
   "execution_count": 105,
   "metadata": {},
   "outputs": [
    {
     "name": "stdout",
     "output_type": "stream",
     "text": [
      "0.8807970779778823\n"
     ]
    }
   ],
   "source": [
    "print(forward(nodes, w))"
   ]
  },
  {
   "cell_type": "code",
   "execution_count": 88,
   "metadata": {},
   "outputs": [],
   "source": [
    "def tgrdmse(w, nodes, y_hat, diff): \n",
    "  dlt=np.zeros(shape=(3,3)) \n",
    "  sp_y=sig_prime(y_hat)\n",
    "  sp_s1,sp_s2=sig_prime(nodes[1,1:3]) \n",
    "  dlt[2]=diff*sp_y*nodes[1]\n",
    "  dlt[1]=diff*sp_y*w[2,2]*sp_s2*nodes[0]\n",
    "  dlt[0]=diff*sp_y*w[2,1]*sp_s1*nodes[0]\n",
    "  return(dlt)"
   ]
  },
  {
   "cell_type": "code",
   "execution_count": 101,
   "metadata": {},
   "outputs": [
    {
     "name": "stdout",
     "output_type": "stream",
     "text": [
      "[[-0.00131405 -0.00131405 -0.        ]\n",
      " [-0.00131405 -0.00131405 -0.        ]\n",
      " [-0.01251554 -0.01102365 -0.00149189]]\n"
     ]
    }
   ],
   "source": [
    "print(tgrdmse(w, nodes, output, error))"
   ]
  },
  {
   "cell_type": "code",
   "execution_count": 86,
   "metadata": {},
   "outputs": [
    {
     "data": {
      "text/plain": [
       "array([[ 1,  1,  1],\n",
       "       [-1, -1, -1],\n",
       "       [ 1,  0,  0]])"
      ]
     },
     "execution_count": 86,
     "metadata": {},
     "output_type": "execute_result"
    }
   ],
   "source": [
    "w"
   ]
  },
  {
   "cell_type": "code",
   "execution_count": null,
   "metadata": {},
   "outputs": [],
   "source": []
  }
 ],
 "metadata": {
  "kernelspec": {
   "display_name": "Python 3.9.2 64-bit",
   "language": "python",
   "name": "python3"
  },
  "language_info": {
   "codemirror_mode": {
    "name": "ipython",
    "version": 3
   },
   "file_extension": ".py",
   "mimetype": "text/x-python",
   "name": "python",
   "nbconvert_exporter": "python",
   "pygments_lexer": "ipython3",
   "version": "3.9.2"
  },
  "orig_nbformat": 4,
  "vscode": {
   "interpreter": {
    "hash": "0bd48ae0881e24b9eb52916598f12b5ce0c2fdafddee5692d5ab0d603e0369db"
   }
  }
 },
 "nbformat": 4,
 "nbformat_minor": 2
}
